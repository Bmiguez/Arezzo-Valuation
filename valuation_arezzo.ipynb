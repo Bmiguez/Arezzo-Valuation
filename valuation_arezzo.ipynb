{
  "nbformat": 4,
  "nbformat_minor": 0,
  "metadata": {
    "colab": {
      "provenance": [],
      "mount_file_id": "1h8bqwE_nXSNmFr2dHRuIumB8LcO_gWK1",
      "authorship_tag": "ABX9TyMt9HVB9UW7zwCEkPZwAx/5",
      "include_colab_link": true
    },
    "kernelspec": {
      "name": "python3",
      "display_name": "Python 3"
    },
    "language_info": {
      "name": "python"
    }
  },
  "cells": [
    {
      "cell_type": "markdown",
      "metadata": {
        "id": "view-in-github",
        "colab_type": "text"
      },
      "source": [
        "<a href=\"https://colab.research.google.com/github/Bmiguez/Arezzo-Valuation/blob/main/valuation_arezzo.ipynb\" target=\"_parent\"><img src=\"https://colab.research.google.com/assets/colab-badge.svg\" alt=\"Open In Colab\"/></a>"
      ]
    },
    {
      "cell_type": "code",
      "execution_count": null,
      "metadata": {
        "id": "G4v9HZicpHJ_"
      },
      "outputs": [],
      "source": [
        "# Importando inicialmente as bibliotecas necessárias\n",
        "import pandas as pd\n",
        "import numpy as np\n",
        "import statsmodels.api as sm\n",
        "import yfinance as yf\n",
        "import sys\n",
        "import datetime\n",
        "from dateutil.relativedelta import relativedelta"
      ]
    },
    {
      "cell_type": "code",
      "source": [
        "# Fazendo a conexão do collab com o Drive\n",
        "sys.path.append('/content/drive/MyDrive')"
      ],
      "metadata": {
        "id": "WG-u_A4xshJf"
      },
      "execution_count": null,
      "outputs": []
    },
    {
      "cell_type": "code",
      "source": [
        "# Definindo ticker e índice de referencia\n",
        "ticker = \"ARZZ3.SA\"\n",
        "indice = \"^BVSP\"\n",
        "\n",
        "# Definindo a data de referência e o intervalo de dados\n",
        "ano = 2023\n",
        "mes = 1\n",
        "dia = 1\n",
        "\n",
        "data_ref = datetime.date(ano, mes, dia)\n",
        "data_ini = data_ref - relativedelta(months = 46)"
      ],
      "metadata": {
        "id": "vH9-o-Wfiyj3"
      },
      "execution_count": null,
      "outputs": []
    },
    {
      "cell_type": "code",
      "source": [
        "from ast import increment_lineno\n",
        "# Extrair retornos ajustados da empresa e do benchmark\n",
        "\n",
        "retornos = yf.download([ticker, indice], start = data_ini, end = data_ref, interval=\"1mo\")[\"Adj Close\"].pct_change()\n",
        "\n",
        "retornos = pd.DataFrame(retornos.dropna())\n",
        "\n",
        "y = retornos[ticker]\n",
        "x = retornos[indice]\n",
        "\n"
      ],
      "metadata": {
        "colab": {
          "base_uri": "https://localhost:8080/"
        },
        "id": "zZTsAo9ZdkJ0",
        "outputId": "03e53e01-1a4c-4a06-8aba-baf64da9b7cf"
      },
      "execution_count": null,
      "outputs": [
        {
          "output_type": "stream",
          "name": "stdout",
          "text": [
            "[*********************100%***********************]  2 of 2 completed\n"
          ]
        }
      ]
    },
    {
      "cell_type": "code",
      "source": [
        "# Começando a regressão\n",
        "\n",
        "x = sm.add_constant(x)\n",
        "\n",
        "modelo = sm.OLS(y, x)\n",
        "\n",
        "resultados = modelo.fit()\n",
        "\n",
        "print(resultados.summary())\n",
        "# Extraindo valor do Beta\n",
        "\n",
        "beta = resultados.params[1]\n",
        "\n",
        "conf_interval = resultados.conf_int(alpha=0.05)\n",
        "\n",
        "lower_bound = conf_interval.iloc[1, 0]\n",
        "upper_bound = conf_interval.iloc[1, 1]\n",
        "\n",
        "print(\"Intervalo de Confiança:\")\n",
        "print(\"Limite Inferior:\", lower_bound)\n",
        "print(\"Limite Superior:\", upper_bound)\n"
      ],
      "metadata": {
        "colab": {
          "base_uri": "https://localhost:8080/"
        },
        "id": "-y_tFOIipJqw",
        "outputId": "25d99537-4174-48a7-eee2-aef1b9a9e28b"
      },
      "execution_count": null,
      "outputs": [
        {
          "output_type": "stream",
          "name": "stdout",
          "text": [
            "                            OLS Regression Results                            \n",
            "==============================================================================\n",
            "Dep. Variable:               ARZZ3.SA   R-squared:                       0.551\n",
            "Model:                            OLS   Adj. R-squared:                  0.541\n",
            "Method:                 Least Squares   F-statistic:                     52.80\n",
            "Date:                Thu, 15 Jun 2023   Prob (F-statistic):           5.30e-09\n",
            "Time:                        01:25:23   Log-Likelihood:                 55.153\n",
            "No. Observations:                  45   AIC:                            -106.3\n",
            "Df Residuals:                      43   BIC:                            -102.7\n",
            "Df Model:                           1                                         \n",
            "Covariance Type:            nonrobust                                         \n",
            "==============================================================================\n",
            "                 coef    std err          t      P>|t|      [0.025      0.975]\n",
            "------------------------------------------------------------------------------\n",
            "const          0.0106      0.011      0.978      0.333      -0.011       0.033\n",
            "^BVSP          1.0756      0.148      7.267      0.000       0.777       1.374\n",
            "==============================================================================\n",
            "Omnibus:                        0.678   Durbin-Watson:                   1.992\n",
            "Prob(Omnibus):                  0.713   Jarque-Bera (JB):                0.739\n",
            "Skew:                          -0.109   Prob(JB):                        0.691\n",
            "Kurtosis:                       2.411   Cond. No.                         13.7\n",
            "==============================================================================\n",
            "\n",
            "Notes:\n",
            "[1] Standard Errors assume that the covariance matrix of the errors is correctly specified.\n",
            "Intervalo de Confiança:\n",
            "Limite Inferior: 0.7770845122878778\n",
            "Limite Superior: 1.3740952832460076\n"
          ]
        }
      ]
    },
    {
      "cell_type": "code",
      "source": [
        "# Cálculo do Custo do equity\n",
        "\n",
        "# Desalavancando beta\n",
        "\n",
        "tax = 0.27\n",
        "debt = 1060093\n",
        "equity = 2716661\n",
        "\n",
        "unlev_beta = beta/(1+(1-tax)*debt/equity)\n",
        "\n",
        "# Risk Free Obtido 14/06\n",
        "rf = 10.96%\n",
        "\n",
        "# Default spread 14/06\n",
        "dfs = 3.14%\n",
        "\n",
        "\n",
        "\n",
        "# Calculando equity premium\n",
        "\n",
        "data_ini = data_ref - relativedelta(years = 5)\n",
        "\n",
        "retornos = yf.download(indice, start = data_ini, end = data_ref, interval=\"1mo\")[\"Adj Close\"].pct_change()\n",
        "\n",
        "retornos = retornos.dropna()\n",
        "\n",
        "retorno_anualizado = (float(retornos.mean())+1)**12-1\n",
        "print(retorno_anualizado)"
      ],
      "metadata": {
        "colab": {
          "base_uri": "https://localhost:8080/"
        },
        "id": "dnq2m7pjPIeO",
        "outputId": "e27b2119-8f33-43b9-8f73-eac9c4bddb43"
      },
      "execution_count": null,
      "outputs": [
        {
          "output_type": "stream",
          "name": "stdout",
          "text": [
            "\r[*********************100%***********************]  1 of 1 completed\n",
            "0.08755353683124478\n"
          ]
        }
      ]
    },
    {
      "cell_type": "code",
      "source": [
        "# Montando Valuation\n",
        "!git clone https://github.com/Bmiguez/Arezzo-Valuation"
      ],
      "metadata": {
        "id": "YIvzhUzItxzJ",
        "outputId": "2e2a5acd-dac2-4767-dceb-c0293ca134b3",
        "colab": {
          "base_uri": "https://localhost:8080/"
        }
      },
      "execution_count": 3,
      "outputs": [
        {
          "output_type": "stream",
          "name": "stdout",
          "text": [
            "Cloning into 'Arezzo-Valuation'...\n",
            "remote: Enumerating objects: 23, done.\u001b[K\n",
            "remote: Counting objects: 100% (23/23), done.\u001b[K\n",
            "remote: Compressing objects: 100% (21/21), done.\u001b[K\n",
            "remote: Total 23 (delta 7), reused 0 (delta 0), pack-reused 0\u001b[K\n",
            "Unpacking objects: 100% (23/23), 525.18 KiB | 1.84 MiB/s, done.\n"
          ]
        }
      ]
    },
    {
      "cell_type": "code",
      "source": [
        "from google.colab import drive\n",
        "drive.mount('/content/drive')"
      ],
      "metadata": {
        "id": "xXhAeT4LBPaI"
      },
      "execution_count": null,
      "outputs": []
    },
    {
      "cell_type": "markdown",
      "source": [],
      "metadata": {
        "id": "zCGPQpZwA09n"
      }
    }
  ]
}