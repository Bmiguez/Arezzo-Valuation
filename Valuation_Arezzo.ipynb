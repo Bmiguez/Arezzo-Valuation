{
  "nbformat": 4,
  "nbformat_minor": 0,
  "metadata": {
    "colab": {
      "provenance": [],
      "mount_file_id": "1h8bqwE_nXSNmFr2dHRuIumB8LcO_gWK1",
      "authorship_tag": "ABX9TyPUlSY7ytuyB5ih/L5qjYUB",
      "include_colab_link": true
    },
    "kernelspec": {
      "name": "python3",
      "display_name": "Python 3"
    },
    "language_info": {
      "name": "python"
    }
  },
  "cells": [
    {
      "cell_type": "markdown",
      "metadata": {
        "id": "view-in-github",
        "colab_type": "text"
      },
      "source": [
        "<a href=\"https://colab.research.google.com/github/Bmiguez/Arezzo-Valuation/blob/main/Valuation_Arezzo.ipynb\" target=\"_parent\"><img src=\"https://colab.research.google.com/assets/colab-badge.svg\" alt=\"Open In Colab\"/></a>"
      ]
    },
    {
      "cell_type": "code",
      "execution_count": 1,
      "metadata": {
        "id": "G4v9HZicpHJ_"
      },
      "outputs": [],
      "source": [
        "# Importando inicialmente as bibliotecas necessárias\n",
        "import pandas as pd\n",
        "import numpy as np\n",
        "import statsmodels.api as sm\n",
        "import yfinance as yf\n",
        "import sys\n",
        "import datetime\n",
        "from dateutil.relativedelta import relativedelta"
      ]
    },
    {
      "cell_type": "code",
      "source": [
        "# Definindo ticker e índice de referencia\n",
        "ticker = \"ARZZ3.SA\"\n",
        "indice = \"^BVSP\"\n",
        "\n",
        "# Definindo a data de referência e o intervalo de dados\n",
        "ano = 2023\n",
        "mes = 1\n",
        "dia = 1\n",
        "\n",
        "data_ref = datetime.date(ano, mes, dia)\n",
        "data_ini = data_ref - relativedelta(months = 46)"
      ],
      "metadata": {
        "id": "vH9-o-Wfiyj3"
      },
      "execution_count": 2,
      "outputs": []
    },
    {
      "cell_type": "code",
      "source": [
        "from ast import increment_lineno\n",
        "# Extrair retornos ajustados da empresa e do benchmark\n",
        "\n",
        "retornos = yf.download([ticker, indice], start = data_ini, end = data_ref, interval=\"1mo\")[\"Adj Close\"].pct_change()\n",
        "\n",
        "retornos = pd.DataFrame(retornos.dropna())\n",
        "\n",
        "y = retornos[ticker]\n",
        "x = retornos[indice]\n",
        "\n"
      ],
      "metadata": {
        "colab": {
          "base_uri": "https://localhost:8080/"
        },
        "id": "zZTsAo9ZdkJ0",
        "outputId": "1f036efd-33f2-4ba2-92f9-7c241afaa414"
      },
      "execution_count": 3,
      "outputs": [
        {
          "output_type": "stream",
          "name": "stdout",
          "text": [
            "[*********************100%***********************]  2 of 2 completed\n"
          ]
        }
      ]
    },
    {
      "cell_type": "code",
      "source": [
        "# Começando a regressão\n",
        "\n",
        "x = sm.add_constant(x)\n",
        "\n",
        "modelo = sm.OLS(y, x)\n",
        "\n",
        "resultados = modelo.fit()\n",
        "\n",
        "print(resultados.summary())\n",
        "# Extraindo valor do Beta\n",
        "\n",
        "beta = resultados.params[1]\n",
        "\n",
        "conf_interval = resultados.conf_int(alpha=0.05)\n",
        "\n",
        "lower_bound = conf_interval.iloc[1, 0]\n",
        "upper_bound = conf_interval.iloc[1, 1]\n",
        "\n",
        "print(\"Intervalo de Confiança:\")\n",
        "print(\"Limite Inferior:\", lower_bound)\n",
        "print(\"Limite Superior:\", upper_bound)\n"
      ],
      "metadata": {
        "colab": {
          "base_uri": "https://localhost:8080/"
        },
        "id": "-y_tFOIipJqw",
        "outputId": "8ff407b9-0f21-404f-f5b3-f6364adb2403"
      },
      "execution_count": 4,
      "outputs": [
        {
          "output_type": "stream",
          "name": "stdout",
          "text": [
            "                            OLS Regression Results                            \n",
            "==============================================================================\n",
            "Dep. Variable:               ARZZ3.SA   R-squared:                       0.551\n",
            "Model:                            OLS   Adj. R-squared:                  0.541\n",
            "Method:                 Least Squares   F-statistic:                     52.80\n",
            "Date:                Sun, 18 Jun 2023   Prob (F-statistic):           5.30e-09\n",
            "Time:                        19:36:36   Log-Likelihood:                 55.153\n",
            "No. Observations:                  45   AIC:                            -106.3\n",
            "Df Residuals:                      43   BIC:                            -102.7\n",
            "Df Model:                           1                                         \n",
            "Covariance Type:            nonrobust                                         \n",
            "==============================================================================\n",
            "                 coef    std err          t      P>|t|      [0.025      0.975]\n",
            "------------------------------------------------------------------------------\n",
            "const          0.0106      0.011      0.978      0.333      -0.011       0.033\n",
            "^BVSP          1.0756      0.148      7.267      0.000       0.777       1.374\n",
            "==============================================================================\n",
            "Omnibus:                        0.678   Durbin-Watson:                   1.992\n",
            "Prob(Omnibus):                  0.713   Jarque-Bera (JB):                0.739\n",
            "Skew:                          -0.109   Prob(JB):                        0.691\n",
            "Kurtosis:                       2.411   Cond. No.                         13.7\n",
            "==============================================================================\n",
            "\n",
            "Notes:\n",
            "[1] Standard Errors assume that the covariance matrix of the errors is correctly specified.\n",
            "Intervalo de Confiança:\n",
            "Limite Inferior: 0.7770845534039492\n",
            "Limite Superior: 1.3740953282905002\n"
          ]
        }
      ]
    },
    {
      "cell_type": "code",
      "source": [
        "# Cálculo do Custo do equity\n",
        "\n",
        "# Desalavancando beta\n",
        "\n",
        "tax = 0.27\n",
        "debt = 1060093\n",
        "equity = 2716661\n",
        "\n",
        "unlev_beta = beta/(1+(1-tax)*debt/equity)\n",
        "\n",
        "# Risk Free Obtido 14/06\n",
        "rf = 0.1096\n",
        "\n",
        "# Default spread 14/06\n",
        "dfs = 0.0314\n",
        "\n",
        "\n",
        "\n",
        "# Calculando equity premium\n",
        "\n",
        "data_ini = data_ref - relativedelta(years = 5)\n",
        "\n",
        "retornos = yf.download(indice, start = data_ini, end = data_ref, interval=\"1mo\")[\"Adj Close\"].pct_change()\n",
        "\n",
        "retornos = retornos.dropna()\n",
        "\n",
        "retorno_anualizado = (float(retornos.mean())+1)**12-1\n",
        "print(retorno_anualizado)"
      ],
      "metadata": {
        "colab": {
          "base_uri": "https://localhost:8080/"
        },
        "id": "dnq2m7pjPIeO",
        "outputId": "48891df7-e970-4c4e-b324-a38c124fcd50"
      },
      "execution_count": 5,
      "outputs": [
        {
          "output_type": "stream",
          "name": "stdout",
          "text": [
            "\r[*********************100%***********************]  1 of 1 completed\n",
            "0.08755353683124478\n"
          ]
        }
      ]
    },
    {
      "cell_type": "code",
      "source": [
        "path = \"https://github.com/Bmiguez/Arezzo-Valuation/raw/main/Dados_Valuation.xlsx\"\n",
        "aba_bp = \"BP\"\n",
        "aba_dre = \"DRE\"\n",
        "aba_fc = \"FC\"\n",
        "aba_lp = \"LojasProp\"\n",
        "aba_indicadores = \"Indicadores\"\n",
        "aba_receitabruta = \"Receita Bruta\"\n",
        "\n",
        "#### Criação dos Dataframes\n",
        "#### Balanço Patrimonial\n",
        "df_bp = pd.read_excel(path, aba_bp)\n",
        "\n",
        "#### Demonstração Resultado do Exercício\n",
        "df_dre = pd.read_excel(path, aba_dre)\n",
        "\n",
        "#### Fluxo de Caixa\n",
        "df_fc = pd.read_excel(path, aba_fc)\n",
        "\n",
        "#### Lojas Próprias\n",
        "df_lp = pd.read_excel(path, aba_lp)\n",
        "\n",
        "#### Indicadores\n",
        "df_ind = pd.read_excel(path, aba_indicadores)\n",
        "\n",
        "#### Receita Bruta\n",
        "df_receita = pd.read_excel(path, aba_receitabruta)"
      ],
      "metadata": {
        "id": "YIvzhUzItxzJ"
      },
      "execution_count": 6,
      "outputs": []
    },
    {
      "cell_type": "code",
      "source": [
        "# Calculando a média das deduções entre receita bruta e liquida\n",
        "receita_bruta = df_receita.iloc[:,1]\n",
        "receita_liquida = df_dre.iloc[:,1]\n",
        "\n",
        "deducoes = pd.DataFrame({\"Ano\": range(2010,2023), \"Percentual\":receita_liquida/receita_bruta})\n",
        "\n",
        "## Calculando a média das deduções nos últimos quatro anos\n",
        "deducoes[\"Média_5_anos\"] = deducoes[\"Percentual\"].rolling(5).mean().shift()\n",
        "\n",
        "\n",
        "\n",
        "### Formulando premissas de receita com base no numero de lojas\n",
        "\n",
        "df_lojas_prop = df_lp.iloc[:,[0] + list(range(15,25))].apply(pd.to_numeric, errors='coerce')\n",
        "\n",
        "franquias = df_lp.iloc[:,[0] + list(range(6,14))].apply(pd.to_numeric, errors='coerce')\n",
        "\n",
        "## Cálculo do número de aberturas de lojas prórprias por marca\n",
        "aberturas_LP = df_lojas_prop.iloc[:,1:].diff()\n",
        "aberturas_LP = aberturas_LP.reindex(columns=[\"Ano\"] + aberturas_LP.columns[:-1].tolist())\n",
        "aberturas_LP[\"Ano\"] = df_lojas_prop.iloc[:, 0]\n",
        "aberturas_LP = aberturas_LP.drop(aberturas_LP.index[0])\n",
        "\n",
        "# Cálculo da média dos últimos 3 anos destas aberturas\n",
        "\n",
        "df_mediaslp_aberturas = aberturas_LP.iloc[:,1:].rolling(5).mean().shift()\n",
        "df_mediaslp_aberturas = df_mediaslp_aberturas.reindex(columns=[\"Ano\"] + df_mediaslp_aberturas.columns[:-1].tolist())\n",
        "df_mediaslp_aberturas[\"Ano\"] = df_lojas_prop.iloc[:, 0]\n",
        "\n",
        "\n",
        "## Cálculo do número de aberturas de franquias por marca\n",
        "\n",
        "aberturas_FR = franquias.iloc[:,1:].diff()\n",
        "aberturas_FR = aberturas_FR.reindex(columns=[\"Ano\"] + aberturas_FR.columns[:-1].tolist())\n",
        "aberturas_FR[\"Ano\"] = franquias.iloc[:, 0]\n",
        "aberturas_FR = aberturas_FR.drop(aberturas_FR.index[0])\n",
        "\n",
        "# Cálculo da média dos últimos 5 anos destas aberturas\n",
        "\n",
        "df_mediasfr_aberturas = aberturas_FR.iloc[:,1:].rolling(5).mean().shift()\n",
        "df_mediasfr_aberturas = df_mediasfr_aberturas.reindex(columns=[\"Ano\"] + df_mediasfr_aberturas.columns[:-1].tolist())\n",
        "df_mediasfr_aberturas[\"Ano\"] = df_lojas_prop.iloc[:, 0]\n",
        "\n",
        "\n",
        "# Cálculo do mix de receita por canal por ano\n",
        "canais = [\"Franquias\", \"Multimarcas\", \"Lojas próprias\", \"Web Commerce\", \"Outros²\"]\n",
        "\n",
        "df_canais = df_receita.loc[:,canais]\n",
        "df_particip_canais = df_canais.apply(lambda row: row / row.sum(), axis=1)\n",
        "\n",
        "### Cálculo da receita por loja/receita por franquia\n",
        "## Obter receita de lojas e receita de franquias de cada marca\n",
        "\n",
        "#Arezzo\n",
        "\n",
        "receitalp_arezzo = df_receita.loc[:,\"Arezzo\"] * df_particip_canais.loc[:,\"Lojas próprias\"]\n",
        "receitafr_arezzo = df_receita.loc[:,\"Arezzo\"] * df_particip_canais.loc[:,\"Franquias\"]\n",
        "\n",
        "#Schutz\n",
        "\n",
        "receitalp_schutz = df_receita.loc[:,\"Schutz\"] * df_particip_canais.loc[:,\"Lojas próprias\"]\n",
        "receitafr_schutz = df_receita.loc[:,\"Schutz\"] * df_particip_canais.loc[:,\"Franquias\"]\n",
        "\n",
        "#Anacapri\n",
        "receitalp_anacapri = df_receita.loc[:,\"Anacapri\"] * df_particip_canais.loc[:,\"Lojas próprias\"]\n",
        "receitafr_anacapri = df_receita.loc[:,\"Anacapri\"] * df_particip_canais.loc[:,\"Franquias\"]\n",
        "\n",
        "#AR&CO\n",
        "receitalp_arco = df_receita.loc[:,\"AR&CO\"] * df_particip_canais.loc[:,\"Lojas próprias\"]\n",
        "receitafr_arco = df_receita.loc[:,\"AR&CO\"] * df_particip_canais.loc[:,\"Franquias\"]\n",
        "\n",
        "#Outros\n",
        "receitalp_outros = df_receita.loc[:,\"Outros¹\"] * df_particip_canais.loc[:,\"Lojas próprias\"]\n",
        "receitafr_outros = df_receita.loc[:,\"Outros¹\"] * df_particip_canais.loc[:,\"Franquias\"]\n",
        "\n",
        "## Receita por lojas\n",
        "print (df_lojas_prop.loc[1:,\"Arezzo.1\"].reset_index(drop=True))\n",
        "\n",
        "rec_porLP_arr= receitalp_arezzo / df_lojas_prop.loc[1:,\"Arezzo.1\"].reset_index(drop=True)\n",
        "rec_porFR_arr= receitafr_arezzo / franquias.loc[1:,\"Arezzo\"].reset_index(drop=True)\n",
        "\n",
        "rec_porLP_sch= receitalp_schutz / df_lojas_prop.loc[1:,\"Schutz.1\"].reset_index(drop=True)\n",
        "rec_porFR_sch= receitafr_schutz / franquias.loc[1:,\"Schutz\"].reset_index(drop=True)\n",
        "\n",
        "rec_porLP_arc= receitalp_arco / df_lojas_prop.loc[1:,\"AR&CO.1\"].reset_index(drop=True)\n",
        "rec_porFR_arc= receitafr_arco / franquias.loc[1:,\"AR&CO\"].reset_index(drop=True)\n",
        "\n",
        "rec_porLP_ana= receitalp_anacapri / df_lojas_prop.loc[1:,\"Anacapri.1\"].reset_index(drop=True)\n",
        "rec_porFR_ana= receitafr_anacapri / franquias.loc[1:,\"Anacapri\"].reset_index(drop=True)\n",
        "\n",
        "rec_porLP_out= receitalp_outros / df_lojas_prop.loc[1:,[\"Alexandre Birman\"] + [\"Fiever.1\"] + [\"Alme.1\"] + [\"Vans.1\"] + [\"Carol Bassi\"] + [\"Vicenza\"]].sum(axis=1).reset_index(drop=True)\n",
        "rec_porFR_out= receitafr_outros / franquias.loc[1:,[\"Fiever\"] + [\"Alme\"] + [\"Vans\"] + [\"My Shoes\"]].sum(axis=1).reset_index(drop=True)\n",
        "\n",
        "### Cálculo da média da receita de webcommerce e de multimarcas\n",
        "\n",
        "rec_web = df_canais.loc[:,\"Web Commerce\"]\n",
        "rec_mult = df_canais.loc[:,\"Multimarcas\"]\n",
        "rec_out = df_canais.loc[:,\"Outros²\"]\n",
        "\n",
        "proj_rec_web = rec_web.pct_change().rolling(5).mean().shift()\n",
        "proj_rec_mult = rec_mult.pct_change().rolling(5).mean().shift()\n",
        "proj_rec_out = rec_out.rolling(5).mean().shift()\n"
      ],
      "metadata": {
        "id": "ONMkWbQbshOw",
        "colab": {
          "base_uri": "https://localhost:8080/"
        },
        "outputId": "d9ef96df-a5fb-4c44-af7e-df17439cbe20"
      },
      "execution_count": 36,
      "outputs": [
        {
          "output_type": "stream",
          "name": "stdout",
          "text": [
            "0     13\n",
            "1     19\n",
            "2     19\n",
            "3     17\n",
            "4     19\n",
            "5     15\n",
            "6     15\n",
            "7     15\n",
            "8     14\n",
            "9     10\n",
            "10    12\n",
            "11    18\n",
            "12    18\n",
            "Name: Arezzo.1, dtype: int64\n"
          ]
        }
      ]
    },
    {
      "cell_type": "code",
      "source": [
        "### Organizando projeções\n",
        "\n",
        ""
      ],
      "metadata": {
        "id": "4QcPKZkd3BLE"
      },
      "execution_count": 8,
      "outputs": []
    },
    {
      "cell_type": "markdown",
      "source": [
        "1º Valuation\n",
        "\n",
        "2015-2022"
      ],
      "metadata": {
        "id": "iadKhr0kns2M"
      }
    },
    {
      "cell_type": "code",
      "source": [
        "soma = rec_porLP_arr + rec_porLP_sch + rec_porLP_arc + rec_porLP_ana + rec_porLP_out\n",
        "print(rec_porLP_arr)\n",
        "print(rec_porLP_sch)\n",
        "print(rec_porLP_arc)\n",
        "print(rec_porLP_ana)\n",
        "print(rec_porLP_out)\n",
        "receita_bruta_2023 = 1"
      ],
      "metadata": {
        "id": "dvXHDb7rpEBZ",
        "colab": {
          "base_uri": "https://localhost:8080/"
        },
        "outputId": "66119d9e-9193-477d-93f8-9bd18678afaa"
      },
      "execution_count": 37,
      "outputs": [
        {
          "output_type": "stream",
          "name": "stdout",
          "text": [
            "0      6119.504136\n",
            "1      5572.000279\n",
            "2      8354.062756\n",
            "3     10523.836882\n",
            "4      8549.136641\n",
            "5     10967.061611\n",
            "6     11516.371252\n",
            "7     11414.648335\n",
            "8     12081.972089\n",
            "9     14514.793325\n",
            "10     8323.489808\n",
            "11    11981.874019\n",
            "12    18582.649603\n",
            "dtype: float64\n",
            "0     2873.355887\n",
            "1     2370.907537\n",
            "2     3159.945007\n",
            "3     3692.213082\n",
            "4     3405.594640\n",
            "5     4007.235336\n",
            "6     4276.357386\n",
            "7     4020.503895\n",
            "8     4641.343366\n",
            "9     4116.448114\n",
            "10    3509.638004\n",
            "11    6147.985903\n",
            "12    8859.344284\n",
            "dtype: float64\n",
            "0             NaN\n",
            "1             NaN\n",
            "2             NaN\n",
            "3             NaN\n",
            "4             NaN\n",
            "5             NaN\n",
            "6             NaN\n",
            "7             NaN\n",
            "8             NaN\n",
            "9             NaN\n",
            "10     158.156899\n",
            "11    1753.089525\n",
            "12    2795.265940\n",
            "dtype: float64\n",
            "0        86.699553\n",
            "1       505.377064\n",
            "2       963.347992\n",
            "3      1285.657022\n",
            "4      3039.791142\n",
            "5      5195.644119\n",
            "6      6412.954572\n",
            "7     10271.092172\n",
            "8     13021.094595\n",
            "9     12743.713428\n",
            "10     5718.487253\n",
            "11    29564.568106\n",
            "12    44681.255506\n",
            "dtype: float64\n",
            "0     1265.102081\n",
            "1     2024.486432\n",
            "2     2111.006766\n",
            "3     1243.846319\n",
            "4      975.302337\n",
            "5      687.793536\n",
            "6      760.232177\n",
            "7     1025.989095\n",
            "8     1053.842704\n",
            "9      925.093467\n",
            "10    2076.616345\n",
            "11    4216.300031\n",
            "12    5744.655489\n",
            "dtype: float64\n"
          ]
        }
      ]
    }
  ]
}