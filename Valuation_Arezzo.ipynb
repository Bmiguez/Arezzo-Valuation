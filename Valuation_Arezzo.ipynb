{
  "nbformat": 4,
  "nbformat_minor": 0,
  "metadata": {
    "colab": {
      "provenance": [],
      "mount_file_id": "1h8bqwE_nXSNmFr2dHRuIumB8LcO_gWK1",
      "authorship_tag": "ABX9TyObspQSEzDh/+vuI5Lhk5xA",
      "include_colab_link": true
    },
    "kernelspec": {
      "name": "python3",
      "display_name": "Python 3"
    },
    "language_info": {
      "name": "python"
    }
  },
  "cells": [
    {
      "cell_type": "markdown",
      "metadata": {
        "id": "view-in-github",
        "colab_type": "text"
      },
      "source": [
        "<a href=\"https://colab.research.google.com/github/Bmiguez/Arezzo-Valuation/blob/main/Valuation_Arezzo.ipynb\" target=\"_parent\"><img src=\"https://colab.research.google.com/assets/colab-badge.svg\" alt=\"Open In Colab\"/></a>"
      ]
    },
    {
      "cell_type": "code",
      "execution_count": 1,
      "metadata": {
        "id": "G4v9HZicpHJ_"
      },
      "outputs": [],
      "source": [
        "# Importando inicialmente as bibliotecas necessárias\n",
        "import pandas as pd\n",
        "import numpy as np\n",
        "import statsmodels.api as sm\n",
        "import yfinance as yf\n",
        "import sys\n",
        "import datetime\n",
        "from dateutil.relativedelta import relativedelta"
      ]
    },
    {
      "cell_type": "code",
      "source": [
        "# Definindo ticker e índice de referencia\n",
        "ticker = \"ARZZ3.SA\"\n",
        "indice = \"^BVSP\"\n",
        "\n",
        "# Definindo a data de referência e o intervalo de dados\n",
        "ano = 2023\n",
        "mes = 1\n",
        "dia = 1\n",
        "\n",
        "data_ref = datetime.date(ano, mes, dia)\n",
        "data_ini = data_ref - relativedelta(months = 46)"
      ],
      "metadata": {
        "id": "vH9-o-Wfiyj3"
      },
      "execution_count": 2,
      "outputs": []
    },
    {
      "cell_type": "code",
      "source": [
        "from ast import increment_lineno\n",
        "# Extrair retornos ajustados da empresa e do benchmark\n",
        "\n",
        "retornos = yf.download([ticker, indice], start = data_ini, end = data_ref, interval=\"1mo\")[\"Adj Close\"].pct_change()\n",
        "\n",
        "retornos = pd.DataFrame(retornos.dropna())\n",
        "\n",
        "y = retornos[ticker]\n",
        "x = retornos[indice]\n",
        "\n"
      ],
      "metadata": {
        "colab": {
          "base_uri": "https://localhost:8080/"
        },
        "id": "zZTsAo9ZdkJ0",
        "outputId": "d40a6410-8c6f-4100-a556-7b048cbb3f42"
      },
      "execution_count": 3,
      "outputs": [
        {
          "output_type": "stream",
          "name": "stdout",
          "text": [
            "[*********************100%***********************]  2 of 2 completed\n"
          ]
        }
      ]
    },
    {
      "cell_type": "code",
      "source": [
        "# Começando a regressão\n",
        "\n",
        "x = sm.add_constant(x)\n",
        "\n",
        "modelo = sm.OLS(y, x)\n",
        "\n",
        "resultados = modelo.fit()\n",
        "\n",
        "print(resultados.summary())\n",
        "# Extraindo valor do Beta\n",
        "\n",
        "beta = resultados.params[1]\n",
        "\n",
        "conf_interval = resultados.conf_int(alpha=0.05)\n",
        "\n",
        "lower_bound = conf_interval.iloc[1, 0]\n",
        "upper_bound = conf_interval.iloc[1, 1]\n",
        "\n",
        "print(\"Intervalo de Confiança:\")\n",
        "print(\"Limite Inferior:\", lower_bound)\n",
        "print(\"Limite Superior:\", upper_bound)\n"
      ],
      "metadata": {
        "colab": {
          "base_uri": "https://localhost:8080/"
        },
        "id": "-y_tFOIipJqw",
        "outputId": "2e87236b-8c2f-4f37-9fae-9e53597c1186"
      },
      "execution_count": 4,
      "outputs": [
        {
          "output_type": "stream",
          "name": "stdout",
          "text": [
            "                            OLS Regression Results                            \n",
            "==============================================================================\n",
            "Dep. Variable:               ARZZ3.SA   R-squared:                       0.551\n",
            "Model:                            OLS   Adj. R-squared:                  0.541\n",
            "Method:                 Least Squares   F-statistic:                     52.80\n",
            "Date:                Wed, 21 Jun 2023   Prob (F-statistic):           5.30e-09\n",
            "Time:                        22:18:20   Log-Likelihood:                 55.153\n",
            "No. Observations:                  45   AIC:                            -106.3\n",
            "Df Residuals:                      43   BIC:                            -102.7\n",
            "Df Model:                           1                                         \n",
            "Covariance Type:            nonrobust                                         \n",
            "==============================================================================\n",
            "                 coef    std err          t      P>|t|      [0.025      0.975]\n",
            "------------------------------------------------------------------------------\n",
            "const          0.0106      0.011      0.978      0.333      -0.011       0.033\n",
            "^BVSP          1.0756      0.148      7.267      0.000       0.777       1.374\n",
            "==============================================================================\n",
            "Omnibus:                        0.678   Durbin-Watson:                   1.992\n",
            "Prob(Omnibus):                  0.713   Jarque-Bera (JB):                0.739\n",
            "Skew:                          -0.109   Prob(JB):                        0.691\n",
            "Kurtosis:                       2.411   Cond. No.                         13.7\n",
            "==============================================================================\n",
            "\n",
            "Notes:\n",
            "[1] Standard Errors assume that the covariance matrix of the errors is correctly specified.\n",
            "Intervalo de Confiança:\n",
            "Limite Inferior: 0.7770843084669383\n",
            "Limite Superior: 1.3740952501827814\n"
          ]
        }
      ]
    },
    {
      "cell_type": "code",
      "source": [
        "# Cálculo do Custo do equity\n",
        "\n",
        "# Desalavancando beta\n",
        "\n",
        "tax = 0.27\n",
        "debt = 1060093\n",
        "equity = 2716661\n",
        "\n",
        "unlev_beta = beta/(1+(1-tax)*debt/equity)\n",
        "\n",
        "# Risk Free Obtido 14/06\n",
        "rf = 0.1096\n",
        "\n",
        "# Default spread 14/06\n",
        "dfs = 0.0314\n",
        "\n",
        "\n",
        "\n",
        "# Calculando equity premium\n",
        "\n",
        "data_ini = data_ref - relativedelta(years = 5)\n",
        "\n",
        "retornos = yf.download(indice, start = data_ini, end = data_ref, interval=\"1mo\")[\"Adj Close\"].pct_change()\n",
        "\n",
        "retornos = retornos.dropna()\n",
        "\n",
        "retorno_anualizado = (float(retornos.mean())+1)**12-1\n",
        "print(retorno_anualizado)"
      ],
      "metadata": {
        "colab": {
          "base_uri": "https://localhost:8080/"
        },
        "id": "dnq2m7pjPIeO",
        "outputId": "d5811ab1-e1ac-46fa-fb1b-ed8c4107a09f"
      },
      "execution_count": 5,
      "outputs": [
        {
          "output_type": "stream",
          "name": "stdout",
          "text": [
            "\r[*********************100%***********************]  1 of 1 completed\n",
            "0.08755353683124478\n"
          ]
        }
      ]
    },
    {
      "cell_type": "code",
      "source": [
        "path = \"https://github.com/Bmiguez/Arezzo-Valuation/raw/main/Dados_Valuation.xlsx\"\n",
        "aba_bp = \"BP\"\n",
        "aba_dre = \"DRE\"\n",
        "aba_fc = \"FC\"\n",
        "aba_lp = \"LojasProp\"\n",
        "aba_indicadores = \"Indicadores\"\n",
        "aba_receitabruta = \"Receita Bruta\"\n",
        "\n",
        "#### Criação dos Dataframes\n",
        "#### Balanço Patrimonial\n",
        "df_bp = pd.read_excel(path, aba_bp)\n",
        "\n",
        "#### Demonstração Resultado do Exercício\n",
        "df_dre = pd.read_excel(path, aba_dre)\n",
        "\n",
        "#### Fluxo de Caixa\n",
        "df_fc = pd.read_excel(path, aba_fc)\n",
        "\n",
        "#### Lojas Próprias\n",
        "df_lp = pd.read_excel(path, aba_lp)\n",
        "\n",
        "#### Indicadores\n",
        "df_ind = pd.read_excel(path, aba_indicadores)\n",
        "\n",
        "#### Receita Bruta\n",
        "df_receita = pd.read_excel(path, aba_receitabruta)"
      ],
      "metadata": {
        "id": "YIvzhUzItxzJ"
      },
      "execution_count": 6,
      "outputs": []
    },
    {
      "cell_type": "code",
      "source": [
        "# Calculando a média das deduções entre receita bruta e liquida\n",
        "receita_bruta = df_receita.iloc[:,1]\n",
        "receita_liquida = df_dre.iloc[:,1]\n",
        "\n",
        "deducoes = pd.DataFrame({\"Ano\": range(2010,2023), \"Percentual\":receita_liquida/receita_bruta})\n",
        "\n",
        "## Calculando a média das deduções nos últimos quatro anos\n",
        "deducoes[\"Média_5_anos\"] = deducoes[\"Percentual\"].rolling(5).mean().shift()\n",
        "\n",
        "\n",
        "\n",
        "### Formulando premissas de receita com base no numero de lojas\n",
        "\n",
        "df_lojas_prop = df_lp.iloc[:,[0] + list(range(15,25))].apply(pd.to_numeric, errors='coerce')\n",
        "\n",
        "franquias = df_lp.iloc[:,[0] + list(range(6,14))].apply(pd.to_numeric, errors='coerce')\n",
        "\n",
        "## Cálculo do número de aberturas de lojas prórprias por marca\n",
        "aberturas_LP = df_lojas_prop.iloc[:,1:].diff()\n",
        "aberturas_LP = aberturas_LP.reindex(columns=[\"Ano\"] + aberturas_LP.columns[:-1].tolist())\n",
        "aberturas_LP[\"Ano\"] = df_lojas_prop.iloc[:, 0]\n",
        "aberturas_LP = aberturas_LP.drop(aberturas_LP.index[0])\n",
        "\n",
        "# Cálculo da média dos últimos 3 anos destas aberturas\n",
        "\n",
        "df_mediaslp_aberturas = aberturas_LP.iloc[:,1:].rolling(5).mean().shift()\n",
        "df_mediaslp_aberturas = df_mediaslp_aberturas.reindex(columns=[\"Ano\"] + df_mediaslp_aberturas.columns[:-1].tolist())\n",
        "df_mediaslp_aberturas[\"Ano\"] = df_lojas_prop.iloc[:, 0]\n",
        "\n",
        "\n",
        "## Cálculo do número de aberturas de franquias por marca\n",
        "\n",
        "aberturas_FR = franquias.iloc[:,1:].diff()\n",
        "aberturas_FR = aberturas_FR.reindex(columns=[\"Ano\"] + aberturas_FR.columns[:-1].tolist())\n",
        "aberturas_FR[\"Ano\"] = franquias.iloc[:, 0]\n",
        "aberturas_FR = aberturas_FR.drop(aberturas_FR.index[0])\n",
        "\n",
        "# Cálculo da média dos últimos 5 anos destas aberturas\n",
        "\n",
        "df_mediasfr_aberturas = aberturas_FR.iloc[:,1:].rolling(5).mean().shift()\n",
        "df_mediasfr_aberturas = df_mediasfr_aberturas.reindex(columns=[\"Ano\"] + df_mediasfr_aberturas.columns[:-1].tolist())\n",
        "df_mediasfr_aberturas[\"Ano\"] = df_lojas_prop.iloc[:, 0]\n",
        "\n",
        "\n",
        "# Cálculo do mix de receita por canal por ano\n",
        "canais = [\"Franquias\", \"Multimarcas\", \"Lojas próprias\", \"Web Commerce\", \"Outros²\"]\n",
        "\n",
        "df_canais = df_receita.loc[:,canais]\n",
        "df_particip_canais = df_canais.apply(lambda row: row / row.sum(), axis=1)\n",
        "\n",
        "### Cálculo da receita por loja/receita por franquia\n",
        "## Obter receita de lojas e receita de franquias de cada marca\n",
        "\n",
        "#Arezzo\n",
        "\n",
        "receitalp_arezzo = df_receita.loc[:,\"Arezzo\"] * df_particip_canais.loc[:,\"Lojas próprias\"]\n",
        "receitafr_arezzo = df_receita.loc[:,\"Arezzo\"] * df_particip_canais.loc[:,\"Franquias\"]\n",
        "\n",
        "#Schutz\n",
        "\n",
        "receitalp_schutz = df_receita.loc[:,\"Schutz\"] * df_particip_canais.loc[:,\"Lojas próprias\"]\n",
        "receitafr_schutz = df_receita.loc[:,\"Schutz\"] * df_particip_canais.loc[:,\"Franquias\"]\n",
        "\n",
        "#Anacapri\n",
        "receitalp_anacapri = df_receita.loc[:,\"Anacapri\"] * df_particip_canais.loc[:,\"Lojas próprias\"]\n",
        "receitafr_anacapri = df_receita.loc[:,\"Anacapri\"] * df_particip_canais.loc[:,\"Franquias\"]\n",
        "\n",
        "#AR&CO\n",
        "receitalp_arco = df_receita.loc[:,\"AR&CO\"] * df_particip_canais.loc[:,\"Lojas próprias\"]\n",
        "receitafr_arco = df_receita.loc[:,\"AR&CO\"] * df_particip_canais.loc[:,\"Franquias\"]\n",
        "\n",
        "#Outros\n",
        "receitalp_outros = df_receita.loc[:,\"Outros¹\"] * df_particip_canais.loc[:,\"Lojas próprias\"]\n",
        "receitafr_outros = df_receita.loc[:,\"Outros¹\"] * df_particip_canais.loc[:,\"Franquias\"]\n",
        "\n",
        "## Receita por lojas\n",
        "print (df_lojas_prop.loc[1:,\"Arezzo.1\"].reset_index(drop=True))\n",
        "\n",
        "rec_porLP_arr= receitalp_arezzo / df_lojas_prop.loc[1:,\"Arezzo.1\"].reset_index(drop=True)\n",
        "rec_porFR_arr= receitafr_arezzo / franquias.loc[1:,\"Arezzo\"].reset_index(drop=True)\n",
        "\n",
        "rec_porLP_sch= receitalp_schutz / df_lojas_prop.loc[1:,\"Schutz.1\"].reset_index(drop=True)\n",
        "rec_porFR_sch= receitafr_schutz / franquias.loc[1:,\"Schutz\"].reset_index(drop=True)\n",
        "\n",
        "rec_porLP_arc= receitalp_arco / df_lojas_prop.loc[1:,\"AR&CO.1\"].reset_index(drop=True)\n",
        "rec_porFR_arc= receitafr_arco / franquias.loc[1:,\"AR&CO\"].reset_index(drop=True)\n",
        "\n",
        "rec_porLP_ana= receitalp_anacapri / df_lojas_prop.loc[1:,\"Anacapri.1\"].reset_index(drop=True)\n",
        "rec_porFR_ana= receitafr_anacapri / franquias.loc[1:,\"Anacapri\"].reset_index(drop=True)\n",
        "\n",
        "rec_porLP_out= receitalp_outros / df_lojas_prop.loc[1:,[\"Alexandre Birman\"] + [\"Fiever.1\"] + [\"Alme.1\"] + [\"Vans.1\"] + [\"Carol Bassi\"] + [\"Vicenza\"]].sum(axis=1).reset_index(drop=True)\n",
        "rec_porFR_out= receitafr_outros / franquias.loc[1:,[\"Fiever\"] + [\"Alme\"] + [\"Vans\"] + [\"My Shoes\"]].sum(axis=1).reset_index(drop=True)\n",
        "\n",
        "### Cálculo da média da receita de webcommerce e de multimarcas\n",
        "\n",
        "rec_web = df_canais.loc[:,\"Web Commerce\"]\n",
        "rec_mult = df_canais.loc[:,\"Multimarcas\"]\n",
        "rec_out = df_canais.loc[:,\"Outros²\"]\n",
        "\n",
        "proj_rec_web = rec_web.pct_change().rolling(5).mean().shift()\n",
        "proj_rec_mult = rec_mult.pct_change().rolling(5).mean().shift()\n",
        "proj_rec_out = rec_out.rolling(5).mean().shift()\n"
      ],
      "metadata": {
        "id": "ONMkWbQbshOw",
        "colab": {
          "base_uri": "https://localhost:8080/"
        },
        "outputId": "e44fb170-78e8-450e-ed7c-876b18347420"
      },
      "execution_count": 7,
      "outputs": [
        {
          "output_type": "stream",
          "name": "stdout",
          "text": [
            "0     13\n",
            "1     19\n",
            "2     19\n",
            "3     17\n",
            "4     19\n",
            "5     15\n",
            "6     15\n",
            "7     15\n",
            "8     14\n",
            "9     10\n",
            "10    12\n",
            "11    18\n",
            "12    18\n",
            "Name: Arezzo.1, dtype: int64\n"
          ]
        }
      ]
    },
    {
      "cell_type": "code",
      "source": [
        "### Organizando projeções\n",
        "\n",
        "## Número de lojas\n",
        "\n",
        "total_FR = df_lp.loc[1:,\"Número de franquias\"].reset_index(drop=True)\n",
        "total_LP = df_lp.loc[1:,\"Número de lojas próprias\"].reset_index(drop=True)\n",
        "total_mult = df_lp.loc[1:,\"Multimarca MI (sem overlap)\"].reset_index(drop=True)\n",
        "\n",
        "abert_FR = df_lp.loc[:,\"Número de franquias\"].diff().dropna().reset_index(drop=True)\n",
        "abert_LP = df_lp.loc[:,\"Número de lojas próprias\"].diff().dropna().reset_index(drop=True)\n",
        "abert_mult = df_lp.loc[:,\"Multimarca MI (sem overlap)\"].diff().dropna().reset_index(drop=True)\n",
        "\n",
        "## Receita por canal\n",
        "\n",
        "receita_LP = df_canais.loc[:,\"Lojas próprias\"]\n",
        "receita_FR = df_canais.loc[:,\"Franquias\"]\n",
        "receita_mult = df_canais.loc[:,\"Multimarcas\"]\n",
        "receita_web = df_canais.loc[:,\"Web Commerce\"]\n",
        "receita_out = df_canais.loc[:,\"Outros²\"]\n",
        "receita_ext = df_receita.loc[:,\"Mercado externo\"]\n",
        "print(df_canais)\n",
        "## Receita por unidade\n",
        "\n",
        "receita_por_LP = receita_LP/ total_LP\n",
        "receita_por_FR = receita_FR / total_FR\n",
        "receita_por_mult = receita_mult / total_mult\n",
        "\n",
        "## Crescimento receita por unidade + receita ecom\n",
        "\n",
        "var_por_LP = receita_por_LP.pct_change()\n",
        "var_por_FR = receita_por_FR.pct_change()\n",
        "var_por_mult = receita_por_mult.pct_change()\n",
        "var_web = receita_web.pct_change()\n",
        "var_ext = receita_ext.pct_change()\n",
        "\n",
        "# Projeções de crescimento de receita\n",
        "\n",
        "proj_rec_LP = (var_por_LP[12] + var_por_LP[9] + var_por_LP[8] + var_por_LP[7] + var_por_LP[6])/5 + 1\n",
        "proj_rec_FR = (var_por_FR[12] + var_por_FR[9] + var_por_FR[8] + var_por_FR[7] + var_por_FR[6])/5 + 1\n",
        "proj_rec_mult = (var_por_mult[12] + var_por_mult[9] + var_por_mult[8] + var_por_mult[7] + var_por_mult[6])/5 + 1\n",
        "proj_rec_out = (receita_out[12] + receita_out[9] + receita_out[8] + receita_out[7] + receita_out[6])/5 + 1\n",
        "proj_rec_web = (var_web[12] + var_web[9] + var_web[8] + var_web[7] + var_web[6])/5 + 1\n",
        "proj_rec_ext = (var_ext[12] + var_ext[9] + var_ext[8] + var_ext[7] + var_ext[6])/5 + 1\n",
        "\n",
        "# Projeções de número de unidades\n",
        "\n",
        "proj_abert_FR = (abert_FR[12] + abert_FR[9] + abert_FR[8] + abert_FR[7] + abert_FR[6])/5\n",
        "proj_abert_LP = (abert_LP[12] + abert_LP[9] + abert_LP[8] + abert_LP[7] + abert_LP[6])/5\n",
        "proj_abert_mult = (abert_mult[12] + abert_mult[9] + abert_mult[8] + abert_mult[7] + abert_mult[6])/5"
      ],
      "metadata": {
        "id": "4QcPKZkd3BLE",
        "colab": {
          "base_uri": "https://localhost:8080/"
        },
        "outputId": "0c1f6267-3a69-40d8-bb9d-80aa6c96f7cc"
      },
      "execution_count": 37,
      "outputs": [
        {
          "output_type": "stream",
          "name": "stdout",
          "text": [
            "       Franquias   Multimarcas  Lojas próprias  Web Commerce      Outros²\n",
            "0   3.586852e+05  1.883722e+05    1.099857e+05             0   5438.30518\n",
            "1   4.199694e+05  2.339907e+05    1.522409e+05             0   8996.09740\n",
            "2   5.123834e+05  2.858163e+05    2.559750e+05             0  15436.18109\n",
            "3   5.831104e+05  2.885663e+05    2.913680e+05             0   7374.31297\n",
            "4   6.613480e+05  2.996120e+05    2.715340e+05         43812   5494.00000\n",
            "5   6.382930e+05  3.051940e+05    2.915400e+05         68760   3309.00000\n",
            "6   6.863340e+05  3.036610e+05    3.013150e+05        108080   2618.00000\n",
            "7   7.480550e+05  3.437490e+05    2.986920e+05        128973   4939.00000\n",
            "8   8.313650e+05  3.842720e+05    2.987060e+05        162640   1885.00000\n",
            "9   8.993990e+05  4.230080e+05    2.663100e+05        214581   1649.00000\n",
            "10  5.622660e+05  4.715540e+05    2.359460e+05        526382    693.00000\n",
            "11  8.868340e+05  8.867000e+05    6.591950e+05        816285   7109.04149\n",
            "12  1.169821e+06  1.278812e+06    1.133505e+06       1089189   8740.00000\n"
          ]
        }
      ]
    },
    {
      "cell_type": "code",
      "source": [],
      "metadata": {
        "id": "crDAvYU9KPqf"
      },
      "execution_count": null,
      "outputs": []
    },
    {
      "cell_type": "markdown",
      "source": [
        "1º Valuation\n",
        "\n",
        "2015-2022"
      ],
      "metadata": {
        "id": "iadKhr0kns2M"
      }
    },
    {
      "cell_type": "code",
      "source": [
        "### Primeiro valuation - 2015 até 2022 (ano 2022)\n",
        "\n",
        "## Projetando receita bruta (Nomencaltura: 1 = primeiro ano projetado)\n",
        "# Receita por Loja própria\n",
        "receita_lp_1 = receita_por_LP[12] * proj_rec_LP #Projetando do ano base\n",
        "receita_lp_2 = receita_lp_1 * proj_rec_LP\n",
        "receita_lp_3 = receita_lp_2 * proj_rec_LP\n",
        "receita_lp_4 = receita_lp_3 * proj_rec_LP\n",
        "receita_lp_5 = receita_lp_4 * proj_rec_LP\n",
        "\n",
        "# Total Lojas própriras\n",
        "total_LP_1 = total_LP[12] + proj_abert_LP #Projetando do ano base\n",
        "total_LP_2 = total_LP_1 + proj_abert_LP\n",
        "total_LP_3 = total_LP_2 + proj_abert_LP\n",
        "total_LP_4 = total_LP_3 + proj_abert_LP\n",
        "total_LP_5 = total_LP_4 + proj_abert_LP\n",
        "\n",
        "# Receita por Franquia\n",
        "receita_fr_1 = receita_por_FR[12] * proj_rec_FR #Projetando do ano base\n",
        "receita_fr_2 = receita_fr_1 * proj_rec_FR\n",
        "receita_fr_3 = receita_fr_2 * proj_rec_FR\n",
        "receita_fr_4 = receita_fr_3 * proj_rec_FR\n",
        "receita_fr_5 = receita_fr_4 * proj_rec_FR\n",
        "\n",
        "# Total Franquias\n",
        "total_FR_1 =  total_FR[12] + proj_abert_FR #Projetando do ano base\n",
        "total_FR_2 = total_FR_1 + proj_abert_FR\n",
        "total_FR_3 = total_FR_2 + proj_abert_FR\n",
        "total_FR_4 = total_FR_3 + proj_abert_FR\n",
        "total_FR_5 = total_FR_4 + proj_abert_FR\n",
        "\n",
        "# Receita por multimarca\n",
        "receita_mult_1 = receita_por_FR[12] * proj_rec_mult #Projetando do ano base\n",
        "receita_mult_2 = receita_mult_1 * proj_rec_mult\n",
        "receita_mult_3 = receita_mult_2 * proj_rec_mult\n",
        "receita_mult_4 = receita_mult_3 * proj_rec_mult\n",
        "receita_mult_5 = receita_mult_4 * proj_rec_mult\n",
        "\n",
        "# Total Multimarcas\n",
        "total_mult_1 =  total_mult[12] + proj_abert_mult #Projetando do ano base\n",
        "total_mult_2 = total_mult_1 + proj_abert_mult\n",
        "total_mult_3 = total_mult_2 + proj_abert_mult\n",
        "total_mult_4 = total_mult_3 + proj_abert_mult\n",
        "total_mult_5 = total_mult_4 + proj_abert_mult\n",
        "\n",
        "# Faturanento Web commerce\n",
        "receita_web_1 = receita_web[12] * proj_rec_web #Projetando do ano base\n",
        "receita_web_3 = receita_web_2 * (proj_rec_web - 0.025) #Suavizando a estimativa de crescimento para os anos seguintes\n",
        "receita_web_4 = receita_web_3 * (proj_rec_web - 0.05)\n",
        "receita_web_5 = receita_web_4 * (proj_rec_web - 0.10)\n",
        "\n",
        "# Faturanento Outros\n",
        "\n",
        "receita_out_1 = receita_out[12] + proj_rec_out #Projetando do ano base\n",
        "receita_out_2 = receita_out_1 + proj_rec_out\n",
        "receita_out_3 = receita_out_2 + proj_rec_out\n",
        "receita_out_4 = receita_out_3 + proj_rec_out\n",
        "receita_out_5 = receita_out_4 + proj_rec_out\n",
        "\n",
        "# Faturamento Exterior\n",
        "receita_ext_1 = receita_ext[12] * proj_rec_ext #Projetando do ano base\n",
        "receita_ext_2 = receita_ext_1 * proj_rec_ext\n",
        "receita_ext_3 = receita_ext_2 * proj_rec_ext\n",
        "receita_ext_4 = receita_ext_3 * proj_rec_ext\n",
        "receita_ext_5 = receita_ext_4 * proj_rec_ext\n",
        "\n",
        "## Cálculo da Receita Bruta total\n",
        "\n",
        "receita_bruta_1 = (receita_lp_1 * total_LP_1) + (receita_fr_1 * total_FR_1) + (receita_mult_1 * total_mult_1) + receita_web_1 + receita_out_1 + receita_ext_1\n",
        "receita_bruta_2 = (receita_lp_2 * total_LP_2) + (receita_fr_2 * total_FR_2) + (receita_mult_2 * total_mult_2) + receita_web_2 + receita_out_2 + receita_ext_2\n",
        "receita_bruta_3 = (receita_lp_3 * total_LP_3) + (receita_fr_3 * total_FR_3) + (receita_mult_3 * total_mult_3) + receita_web_3 + receita_out_3 + receita_ext_3\n",
        "receita_bruta_4 = (receita_lp_4 * total_LP_4) + (receita_fr_4 * total_FR_4) + (receita_mult_4 * total_mult_4) + receita_web_4 + receita_out_4 + receita_ext_4\n",
        "receita_bruta_5 = (receita_lp_5 * total_LP_5) + (receita_fr_5 * total_FR_5) + (receita_mult_5 * total_mult_5) + receita_web_5 + receita_out_5 + receita_ext_5\n",
        "\n",
        "\n",
        "\n",
        "\n",
        "\n",
        "\n",
        "\n"
      ],
      "metadata": {
        "id": "dvXHDb7rpEBZ"
      },
      "execution_count": 43,
      "outputs": []
    }
  ]
}