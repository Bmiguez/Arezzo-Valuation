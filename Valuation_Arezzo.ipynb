{
  "nbformat": 4,
  "nbformat_minor": 0,
  "metadata": {
    "colab": {
      "provenance": [],
      "mount_file_id": "1h8bqwE_nXSNmFr2dHRuIumB8LcO_gWK1",
      "authorship_tag": "ABX9TyPVx6gdlhN5xr4k26tfFft5",
      "include_colab_link": true
    },
    "kernelspec": {
      "name": "python3",
      "display_name": "Python 3"
    },
    "language_info": {
      "name": "python"
    }
  },
  "cells": [
    {
      "cell_type": "markdown",
      "metadata": {
        "id": "view-in-github",
        "colab_type": "text"
      },
      "source": [
        "<a href=\"https://colab.research.google.com/github/Bmiguez/Arezzo-Valuation/blob/main/Valuation_Arezzo.ipynb\" target=\"_parent\"><img src=\"https://colab.research.google.com/assets/colab-badge.svg\" alt=\"Open In Colab\"/></a>"
      ]
    },
    {
      "cell_type": "code",
      "execution_count": 20,
      "metadata": {
        "id": "G4v9HZicpHJ_"
      },
      "outputs": [],
      "source": [
        "# Importando inicialmente as bibliotecas necessárias\n",
        "import pandas as pd\n",
        "import numpy as np\n",
        "import statsmodels.api as sm\n",
        "import yfinance as yf\n",
        "import sys\n",
        "import datetime\n",
        "from dateutil.relativedelta import relativedelta"
      ]
    },
    {
      "cell_type": "code",
      "source": [
        "# Definindo ticker e índice de referencia\n",
        "ticker = \"ARZZ3.SA\"\n",
        "indice = \"^BVSP\"\n",
        "\n",
        "# Definindo a data de referência e o intervalo de dados\n",
        "ano = 2023\n",
        "mes = 1\n",
        "dia = 1\n",
        "\n",
        "data_ref = datetime.date(ano, mes, dia)\n",
        "data_ini = data_ref - relativedelta(months = 46)"
      ],
      "metadata": {
        "id": "vH9-o-Wfiyj3"
      },
      "execution_count": 21,
      "outputs": []
    },
    {
      "cell_type": "code",
      "source": [
        "from ast import increment_lineno\n",
        "# Extrair retornos ajustados da empresa e do benchmark\n",
        "\n",
        "retornos = yf.download([ticker, indice], start = data_ini, end = data_ref, interval=\"1mo\")[\"Adj Close\"].pct_change()\n",
        "\n",
        "retornos = pd.DataFrame(retornos.dropna())\n",
        "\n",
        "y = retornos[ticker]\n",
        "x = retornos[indice]\n",
        "\n"
      ],
      "metadata": {
        "colab": {
          "base_uri": "https://localhost:8080/"
        },
        "id": "zZTsAo9ZdkJ0",
        "outputId": "5fd52dcc-fa3a-4a6b-f296-b3ee58b28dad"
      },
      "execution_count": 22,
      "outputs": [
        {
          "output_type": "stream",
          "name": "stdout",
          "text": [
            "[*********************100%***********************]  2 of 2 completed\n"
          ]
        }
      ]
    },
    {
      "cell_type": "code",
      "source": [
        "# Começando a regressão\n",
        "\n",
        "x = sm.add_constant(x)\n",
        "\n",
        "modelo = sm.OLS(y, x)\n",
        "\n",
        "resultados = modelo.fit()\n",
        "\n",
        "print(resultados.summary())\n",
        "# Extraindo valor do Beta\n",
        "\n",
        "beta = resultados.params[1]\n",
        "\n",
        "conf_interval = resultados.conf_int(alpha=0.05)\n",
        "\n",
        "lower_bound = conf_interval.iloc[1, 0]\n",
        "upper_bound = conf_interval.iloc[1, 1]\n",
        "\n",
        "print(\"Intervalo de Confiança:\")\n",
        "print(\"Limite Inferior:\", lower_bound)\n",
        "print(\"Limite Superior:\", upper_bound)\n"
      ],
      "metadata": {
        "colab": {
          "base_uri": "https://localhost:8080/"
        },
        "id": "-y_tFOIipJqw",
        "outputId": "eb72c075-b10d-430b-ab50-dcc8a3978be1"
      },
      "execution_count": 23,
      "outputs": [
        {
          "output_type": "stream",
          "name": "stdout",
          "text": [
            "                            OLS Regression Results                            \n",
            "==============================================================================\n",
            "Dep. Variable:               ARZZ3.SA   R-squared:                       0.551\n",
            "Model:                            OLS   Adj. R-squared:                  0.541\n",
            "Method:                 Least Squares   F-statistic:                     52.80\n",
            "Date:                Tue, 20 Jun 2023   Prob (F-statistic):           5.30e-09\n",
            "Time:                        13:17:32   Log-Likelihood:                 55.153\n",
            "No. Observations:                  45   AIC:                            -106.3\n",
            "Df Residuals:                      43   BIC:                            -102.7\n",
            "Df Model:                           1                                         \n",
            "Covariance Type:            nonrobust                                         \n",
            "==============================================================================\n",
            "                 coef    std err          t      P>|t|      [0.025      0.975]\n",
            "------------------------------------------------------------------------------\n",
            "const          0.0106      0.011      0.978      0.333      -0.011       0.033\n",
            "^BVSP          1.0756      0.148      7.267      0.000       0.777       1.374\n",
            "==============================================================================\n",
            "Omnibus:                        0.678   Durbin-Watson:                   1.992\n",
            "Prob(Omnibus):                  0.713   Jarque-Bera (JB):                0.739\n",
            "Skew:                          -0.109   Prob(JB):                        0.691\n",
            "Kurtosis:                       2.411   Cond. No.                         13.7\n",
            "==============================================================================\n",
            "\n",
            "Notes:\n",
            "[1] Standard Errors assume that the covariance matrix of the errors is correctly specified.\n",
            "Intervalo de Confiança:\n",
            "Limite Inferior: 0.7770842799798782\n",
            "Limite Superior: 1.3740950929566957\n"
          ]
        }
      ]
    },
    {
      "cell_type": "code",
      "source": [
        "# Cálculo do Custo do equity\n",
        "\n",
        "# Desalavancando beta\n",
        "\n",
        "tax = 0.27\n",
        "debt = 1060093\n",
        "equity = 2716661\n",
        "\n",
        "unlev_beta = beta/(1+(1-tax)*debt/equity)\n",
        "\n",
        "# Risk Free Obtido 14/06\n",
        "rf = 0.1096\n",
        "\n",
        "# Default spread 14/06\n",
        "dfs = 0.0314\n",
        "\n",
        "\n",
        "\n",
        "# Calculando equity premium\n",
        "\n",
        "data_ini = data_ref - relativedelta(years = 5)\n",
        "\n",
        "retornos = yf.download(indice, start = data_ini, end = data_ref, interval=\"1mo\")[\"Adj Close\"].pct_change()\n",
        "\n",
        "retornos = retornos.dropna()\n",
        "\n",
        "retorno_anualizado = (float(retornos.mean())+1)**12-1\n",
        "print(retorno_anualizado)"
      ],
      "metadata": {
        "colab": {
          "base_uri": "https://localhost:8080/"
        },
        "id": "dnq2m7pjPIeO",
        "outputId": "de411cf7-2680-4320-a145-4aeb5a908b3d"
      },
      "execution_count": 24,
      "outputs": [
        {
          "output_type": "stream",
          "name": "stdout",
          "text": [
            "\r[*********************100%***********************]  1 of 1 completed\n",
            "0.08755353683124478\n"
          ]
        }
      ]
    },
    {
      "cell_type": "code",
      "source": [
        "path = \"https://github.com/Bmiguez/Arezzo-Valuation/raw/main/Dados_Valuation.xlsx\"\n",
        "aba_bp = \"BP\"\n",
        "aba_dre = \"DRE\"\n",
        "aba_fc = \"FC\"\n",
        "aba_lp = \"LojasProp\"\n",
        "aba_indicadores = \"Indicadores\"\n",
        "aba_receitabruta = \"Receita Bruta\"\n",
        "\n",
        "#### Criação dos Dataframes\n",
        "#### Balanço Patrimonial\n",
        "df_bp = pd.read_excel(path, aba_bp)\n",
        "\n",
        "#### Demonstração Resultado do Exercício\n",
        "df_dre = pd.read_excel(path, aba_dre)\n",
        "\n",
        "#### Fluxo de Caixa\n",
        "df_fc = pd.read_excel(path, aba_fc)\n",
        "\n",
        "#### Lojas Próprias\n",
        "df_lp = pd.read_excel(path, aba_lp)\n",
        "\n",
        "#### Indicadores\n",
        "df_ind = pd.read_excel(path, aba_indicadores)\n",
        "\n",
        "#### Receita Bruta\n",
        "df_receita = pd.read_excel(path, aba_receitabruta)"
      ],
      "metadata": {
        "id": "YIvzhUzItxzJ"
      },
      "execution_count": 25,
      "outputs": []
    },
    {
      "cell_type": "code",
      "source": [
        "# Calculando a média das deduções entre receita bruta e liquida\n",
        "receita_bruta = df_receita.iloc[:,1]\n",
        "receita_liquida = df_dre.iloc[:,1]\n",
        "\n",
        "deducoes = pd.DataFrame({\"Ano\": range(2010,2023), \"Percentual\":receita_liquida/receita_bruta})\n",
        "\n",
        "## Calculando a média das deduções nos últimos quatro anos\n",
        "deducoes[\"Média_5_anos\"] = deducoes[\"Percentual\"].rolling(5).mean().shift()\n",
        "\n",
        "\n",
        "\n",
        "### Formulando premissas de receita com base no numero de lojas\n",
        "\n",
        "df_lojas_prop = df_lp.iloc[:,[0] + list(range(15,25))].apply(pd.to_numeric, errors='coerce')\n",
        "\n",
        "franquias = df_lp.iloc[:,[0] + list(range(6,14))].apply(pd.to_numeric, errors='coerce')\n",
        "\n",
        "## Cálculo do número de aberturas de lojas prórprias por marca\n",
        "aberturas_LP = df_lojas_prop.iloc[:,1:].diff()\n",
        "aberturas_LP = aberturas_LP.reindex(columns=[\"Ano\"] + aberturas_LP.columns[:-1].tolist())\n",
        "aberturas_LP[\"Ano\"] = df_lojas_prop.iloc[:, 0]\n",
        "aberturas_LP = aberturas_LP.drop(aberturas_LP.index[0])\n",
        "\n",
        "# Cálculo da média dos últimos 3 anos destas aberturas\n",
        "\n",
        "df_mediaslp_aberturas = aberturas_LP.iloc[:,1:].rolling(5).mean().shift()\n",
        "df_mediaslp_aberturas = df_mediaslp_aberturas.reindex(columns=[\"Ano\"] + df_mediaslp_aberturas.columns[:-1].tolist())\n",
        "df_mediaslp_aberturas[\"Ano\"] = df_lojas_prop.iloc[:, 0]\n",
        "\n",
        "\n",
        "## Cálculo do número de aberturas de franquias por marca\n",
        "\n",
        "aberturas_FR = franquias.iloc[:,1:].diff()\n",
        "aberturas_FR = aberturas_FR.reindex(columns=[\"Ano\"] + aberturas_FR.columns[:-1].tolist())\n",
        "aberturas_FR[\"Ano\"] = franquias.iloc[:, 0]\n",
        "aberturas_FR = aberturas_FR.drop(aberturas_FR.index[0])\n",
        "\n",
        "# Cálculo da média dos últimos 5 anos destas aberturas\n",
        "\n",
        "df_mediasfr_aberturas = aberturas_FR.iloc[:,1:].rolling(5).mean().shift()\n",
        "df_mediasfr_aberturas = df_mediasfr_aberturas.reindex(columns=[\"Ano\"] + df_mediasfr_aberturas.columns[:-1].tolist())\n",
        "df_mediasfr_aberturas[\"Ano\"] = df_lojas_prop.iloc[:, 0]\n",
        "\n",
        "\n",
        "# Cálculo do mix de receita por canal por ano\n",
        "canais = [\"Franquias\", \"Multimarcas\", \"Lojas próprias\", \"Web Commerce\", \"Outros²\"]\n",
        "\n",
        "df_canais = df_receita.loc[:,canais]\n",
        "df_particip_canais = df_canais.apply(lambda row: row / row.sum(), axis=1)\n",
        "\n",
        "### Cálculo da receita por loja/receita por franquia\n",
        "## Obter receita de lojas e receita de franquias de cada marca\n",
        "\n",
        "#Arezzo\n",
        "\n",
        "receitalp_arezzo = df_receita.loc[:,\"Arezzo\"] * df_particip_canais.loc[:,\"Lojas próprias\"]\n",
        "receitafr_arezzo = df_receita.loc[:,\"Arezzo\"] * df_particip_canais.loc[:,\"Franquias\"]\n",
        "\n",
        "#Schutz\n",
        "\n",
        "receitalp_schutz = df_receita.loc[:,\"Schutz\"] * df_particip_canais.loc[:,\"Lojas próprias\"]\n",
        "receitafr_schutz = df_receita.loc[:,\"Schutz\"] * df_particip_canais.loc[:,\"Franquias\"]\n",
        "\n",
        "#Anacapri\n",
        "receitalp_anacapri = df_receita.loc[:,\"Anacapri\"] * df_particip_canais.loc[:,\"Lojas próprias\"]\n",
        "receitafr_anacapri = df_receita.loc[:,\"Anacapri\"] * df_particip_canais.loc[:,\"Franquias\"]\n",
        "\n",
        "#AR&CO\n",
        "receitalp_arco = df_receita.loc[:,\"AR&CO\"] * df_particip_canais.loc[:,\"Lojas próprias\"]\n",
        "receitafr_arco = df_receita.loc[:,\"AR&CO\"] * df_particip_canais.loc[:,\"Franquias\"]\n",
        "\n",
        "#Outros\n",
        "receitalp_outros = df_receita.loc[:,\"Outros¹\"] * df_particip_canais.loc[:,\"Lojas próprias\"]\n",
        "receitafr_outros = df_receita.loc[:,\"Outros¹\"] * df_particip_canais.loc[:,\"Franquias\"]\n",
        "\n",
        "## Receita por lojas\n",
        "print (df_lojas_prop.loc[1:,\"Arezzo.1\"].reset_index(drop=True))\n",
        "\n",
        "rec_porLP_arr= receitalp_arezzo / df_lojas_prop.loc[1:,\"Arezzo.1\"].reset_index(drop=True)\n",
        "rec_porFR_arr= receitafr_arezzo / franquias.loc[1:,\"Arezzo\"].reset_index(drop=True)\n",
        "\n",
        "rec_porLP_sch= receitalp_schutz / df_lojas_prop.loc[1:,\"Schutz.1\"].reset_index(drop=True)\n",
        "rec_porFR_sch= receitafr_schutz / franquias.loc[1:,\"Schutz\"].reset_index(drop=True)\n",
        "\n",
        "rec_porLP_arc= receitalp_arco / df_lojas_prop.loc[1:,\"AR&CO.1\"].reset_index(drop=True)\n",
        "rec_porFR_arc= receitafr_arco / franquias.loc[1:,\"AR&CO\"].reset_index(drop=True)\n",
        "\n",
        "rec_porLP_ana= receitalp_anacapri / df_lojas_prop.loc[1:,\"Anacapri.1\"].reset_index(drop=True)\n",
        "rec_porFR_ana= receitafr_anacapri / franquias.loc[1:,\"Anacapri\"].reset_index(drop=True)\n",
        "\n",
        "rec_porLP_out= receitalp_outros / df_lojas_prop.loc[1:,[\"Alexandre Birman\"] + [\"Fiever.1\"] + [\"Alme.1\"] + [\"Vans.1\"] + [\"Carol Bassi\"] + [\"Vicenza\"]].sum(axis=1).reset_index(drop=True)\n",
        "rec_porFR_out= receitafr_outros / franquias.loc[1:,[\"Fiever\"] + [\"Alme\"] + [\"Vans\"] + [\"My Shoes\"]].sum(axis=1).reset_index(drop=True)\n",
        "\n",
        "### Cálculo da média da receita de webcommerce e de multimarcas\n",
        "\n",
        "rec_web = df_canais.loc[:,\"Web Commerce\"]\n",
        "rec_mult = df_canais.loc[:,\"Multimarcas\"]\n",
        "rec_out = df_canais.loc[:,\"Outros²\"]\n",
        "\n",
        "proj_rec_web = rec_web.pct_change().rolling(5).mean().shift()\n",
        "proj_rec_mult = rec_mult.pct_change().rolling(5).mean().shift()\n",
        "proj_rec_out = rec_out.rolling(5).mean().shift()\n"
      ],
      "metadata": {
        "id": "ONMkWbQbshOw",
        "colab": {
          "base_uri": "https://localhost:8080/"
        },
        "outputId": "6e322731-dce9-4491-a81e-727edab24159"
      },
      "execution_count": 26,
      "outputs": [
        {
          "output_type": "stream",
          "name": "stdout",
          "text": [
            "0     13\n",
            "1     19\n",
            "2     19\n",
            "3     17\n",
            "4     19\n",
            "5     15\n",
            "6     15\n",
            "7     15\n",
            "8     14\n",
            "9     10\n",
            "10    12\n",
            "11    18\n",
            "12    18\n",
            "Name: Arezzo.1, dtype: int64\n"
          ]
        }
      ]
    },
    {
      "cell_type": "code",
      "source": [
        "### Organizando projeções\n",
        "\n",
        "## Número de lojas\n",
        "\n",
        "total_FR = df_lp.loc[1:,\"Número de franquias\"].reset_index(drop=True)\n",
        "total_LP = df_lp.loc[1:,\"Número de lojas próprias\"].reset_index(drop=True)\n",
        "total_mult = df_lp.loc[1:,\"Multimarca MI (sem overlap)\"].reset_index(drop=True)\n",
        "\n",
        "abert_FR = df_lp.loc[:,\"Número de franquias\"].diff().dropna().reset_index(drop=True)\n",
        "abert_LP = df_lp.loc[:,\"Número de lojas próprias\"].diff().dropna().reset_index(drop=True)\n",
        "abert_mult = df_lp.loc[:,\"Multimarca MI (sem overlap)\"].diff().dropna().reset_index(drop=True)\n",
        "\n",
        "## Aberturas por marca\n",
        "abertura_marcaLP = df_lp.iloc[1:,15:25].diff().dropna().reset_index(drop=True)\n",
        "abertura_marcaFR = df_lp.iloc[1:,6,14].diff().dropna().reset_index(drop=True)\n",
        "\n",
        "\n",
        "\n",
        "## Receita por canal\n",
        "\n",
        "receita_LP = df_canais.loc[:,\"Lojas próprias\"]\n",
        "receita_FR = df_canais.loc[:,\"Franquias\"]\n",
        "receita_mult = df_canais.loc[:,\"Multimarcas\"]\n",
        "receita_web = df_canais.loc[:,\"Web Commerce\"]\n",
        "receita_out = df_canais.loc[:,\"Outros²\"]\n",
        "\n",
        "## Receita por unidade\n",
        "\n",
        "receita_por_LP = receita_LP/ total_LP\n",
        "receita_por_FR = receita_FR / total_FR\n",
        "receita_por_mult = receita_mult / total_mult\n",
        "\n",
        "## Crescimento receita por unidade + receita ecom\n",
        "\n",
        "var_por_LP = receita_por_LP.pct_change()\n",
        "var_por_FR = receita_por_FR.pct_change()\n",
        "var_por_mult = receita_por_mult.pct_change()\n",
        "var_web = receita_web.pct_change()\n",
        "\n",
        "# Projeções de crescimento de receita\n",
        "\n",
        "proj_rec_LP = (var_por_LP[12] + var_por_LP[9] + var_por_LP[8] + var_por_LP[7] + var_por_LP[6])/5\n",
        "proj_rec_FR = (var_por_FR[12] + var_por_FR[9] + var_por_FR[8] + var_por_FR[7] + var_por_FR[6])/5\n",
        "proj_rec_mult = (var_por_mult[12] + var_por_mult[9] + var_por_mult[8] + var_por_mult[7] + var_por_mult[6])/5\n",
        "proj_rec_out = (receita_out[12] + receita_out[9] + receita_out[8] + receita_out[7] + receita_out[6])/5\n",
        "proj_rec_web = (var_web[12] + var_web[9] + var_web[8] + var_web[7] + var_web[6])/5\n",
        "\n",
        "# Projeções de número de unidades\n",
        "\n",
        "proj_abert_FR = (abert_FR[12] + abert_FR[9] + abert_FR[8] + abert_FR[7] + abert_FR[6])/5\n",
        "proj_abert_LP = (abert_LP[12] + abert_LP[9] + abert_LP[8] + abert_LP[7] + abert_LP[6])/5\n",
        "proj_abert_mult = (abert_mult[12] + abert_mult[9] + abert_mult[8] + abert_mult[7] + abert_mult[6])/5\n"
      ],
      "metadata": {
        "id": "4QcPKZkd3BLE",
        "colab": {
          "base_uri": "https://localhost:8080/"
        },
        "outputId": "c5d41244-d96f-4578-fd54-e3bb9e03b215"
      },
      "execution_count": 34,
      "outputs": [
        {
          "output_type": "stream",
          "name": "stdout",
          "text": [
            "    Arezzo.1  Schutz.1  Alexandre Birman  Anacapri.1 Fiever.1 Alme.1  Vans.1  \\\n",
            "1         13        10                 1           5        -      -     NaN   \n",
            "2         19        17                 1           8        -      -     NaN   \n",
            "3         19        27                 2           8        -      -     NaN   \n",
            "4         17        27                 2           8        -      -     NaN   \n",
            "5         19        27                 2           5        -      -     NaN   \n",
            "6         15        26                 2           4        1      -     NaN   \n",
            "7         15        23                 3           4        3      -     NaN   \n",
            "8         15        22                 4           3        4      -     NaN   \n",
            "9         14        17                 4           3        5      2     NaN   \n",
            "10        10        17                 6           3        5      3     NaN   \n",
            "11        12        16                 8           5        2      2     7.0   \n",
            "12        18        20                 8           2        2      2    13.0   \n",
            "13        18        22                12           2        2      2    18.0   \n",
            "\n",
            "    AR&CO.1  Carol Bassi  Vicenza  Total de lojas no Exterior  \n",
            "1       NaN          NaN      NaN                           7  \n",
            "2       NaN          NaN      NaN                           7  \n",
            "3       NaN          NaN      NaN                           9  \n",
            "4       NaN          NaN      NaN                           9  \n",
            "5       NaN          NaN      NaN                           8  \n",
            "6       NaN          NaN      NaN                           6  \n",
            "7       NaN          NaN      NaN                           7  \n",
            "8       NaN          NaN      NaN                           7  \n",
            "9       NaN          NaN      NaN                          12  \n",
            "10      NaN          NaN      NaN                          15  \n",
            "11     75.0          NaN      NaN                          11  \n",
            "12     89.0          NaN      NaN                          11  \n",
            "13    104.0          5.0      NaN                          11  \n"
          ]
        }
      ]
    },
    {
      "cell_type": "markdown",
      "source": [
        "1º Valuation\n",
        "\n",
        "2015-2022"
      ],
      "metadata": {
        "id": "iadKhr0kns2M"
      }
    },
    {
      "cell_type": "code",
      "source": [
        "### Primeiro valuation - 2015 até 2022\n",
        "\n",
        "## Projetando receita bruta\n",
        "# Lojas por Loja própria\n",
        "receita_lp_2023 = receita_por_LP[12] * proj_rec_LP\n",
        "receita_lp_2024 = receita_lp_2023 * proj_rec_LP\n",
        "receita_lp_2025 = receita_lp_2024 * proj_rec_LP\n",
        "receita_lp_2026 = receita_lp_2025 * proj_rec_LP\n",
        "receita_lp_2027 = receita_lp_2026 * proj_rec_LP\n",
        "\n",
        "# Total Lojas própriras\n",
        "print(abert_LP)\n",
        "\n",
        "# Receita ano / num de lojas * cresc * novas lojas\n",
        "\n",
        "\n",
        "\n",
        "\n"
      ],
      "metadata": {
        "id": "dvXHDb7rpEBZ",
        "colab": {
          "base_uri": "https://localhost:8080/"
        },
        "outputId": "2a7e78de-8557-4769-88d0-1da14d9879d2"
      },
      "execution_count": 31,
      "outputs": [
        {
          "output_type": "stream",
          "name": "stdout",
          "text": [
            "0      7.0\n",
            "1     16.0\n",
            "2     11.0\n",
            "3     -2.0\n",
            "4     -1.0\n",
            "5     -5.0\n",
            "6      0.0\n",
            "7      0.0\n",
            "8     -3.0\n",
            "9     -1.0\n",
            "10    83.0\n",
            "11    26.0\n",
            "12    32.0\n",
            "Name: Número de lojas próprias, dtype: float64\n"
          ]
        }
      ]
    }
  ]
}