{
  "nbformat": 4,
  "nbformat_minor": 0,
  "metadata": {
    "colab": {
      "provenance": [],
      "mount_file_id": "1h8bqwE_nXSNmFr2dHRuIumB8LcO_gWK1",
      "authorship_tag": "ABX9TyPlqedi9MXbLuisHmYGyL6+",
      "include_colab_link": true
    },
    "kernelspec": {
      "name": "python3",
      "display_name": "Python 3"
    },
    "language_info": {
      "name": "python"
    }
  },
  "cells": [
    {
      "cell_type": "markdown",
      "metadata": {
        "id": "view-in-github",
        "colab_type": "text"
      },
      "source": [
        "<a href=\"https://colab.research.google.com/github/Bmiguez/Arezzo-Valuation/blob/main/Valuation_Arezzo.ipynb\" target=\"_parent\"><img src=\"https://colab.research.google.com/assets/colab-badge.svg\" alt=\"Open In Colab\"/></a>"
      ]
    },
    {
      "cell_type": "code",
      "execution_count": 2,
      "metadata": {
        "id": "G4v9HZicpHJ_"
      },
      "outputs": [],
      "source": [
        "# Importando inicialmente as bibliotecas necessárias\n",
        "import pandas as pd\n",
        "import numpy as np\n",
        "import statsmodels.api as sm\n",
        "import yfinance as yf\n",
        "import sys\n",
        "import datetime\n",
        "from dateutil.relativedelta import relativedelta"
      ]
    },
    {
      "cell_type": "code",
      "source": [
        "# Definindo ticker e índice de referencia\n",
        "ticker = \"ARZZ3.SA\"\n",
        "indice = \"^BVSP\"\n",
        "\n",
        "# Definindo a data de referência e o intervalo de dados\n",
        "ano = 2023\n",
        "mes = 1\n",
        "dia = 1\n",
        "\n",
        "data_ref = datetime.date(ano, mes, dia)\n",
        "data_ini = data_ref - relativedelta(months = 46)"
      ],
      "metadata": {
        "id": "vH9-o-Wfiyj3"
      },
      "execution_count": 3,
      "outputs": []
    },
    {
      "cell_type": "code",
      "source": [
        "from ast import increment_lineno\n",
        "# Extrair retornos ajustados da empresa e do benchmark\n",
        "\n",
        "retornos = yf.download([ticker, indice], start = data_ini, end = data_ref, interval=\"1mo\")[\"Adj Close\"].pct_change()\n",
        "\n",
        "retornos = pd.DataFrame(retornos.dropna())\n",
        "\n",
        "y = retornos[ticker]\n",
        "x = retornos[indice]\n",
        "\n"
      ],
      "metadata": {
        "colab": {
          "base_uri": "https://localhost:8080/"
        },
        "id": "zZTsAo9ZdkJ0",
        "outputId": "1f5d02f8-0746-444d-c278-3fd5295d9f6e"
      },
      "execution_count": 4,
      "outputs": [
        {
          "output_type": "stream",
          "name": "stdout",
          "text": [
            "[*********************100%***********************]  2 of 2 completed\n"
          ]
        }
      ]
    },
    {
      "cell_type": "code",
      "source": [
        "# Começando a regressão\n",
        "\n",
        "x = sm.add_constant(x)\n",
        "\n",
        "modelo = sm.OLS(y, x)\n",
        "\n",
        "resultados = modelo.fit()\n",
        "\n",
        "print(resultados.summary())\n",
        "# Extraindo valor do Beta\n",
        "\n",
        "beta = resultados.params[1]\n",
        "\n",
        "conf_interval = resultados.conf_int(alpha=0.05)\n",
        "\n",
        "lower_bound = conf_interval.iloc[1, 0]\n",
        "upper_bound = conf_interval.iloc[1, 1]\n",
        "\n",
        "print(\"Intervalo de Confiança:\")\n",
        "print(\"Limite Inferior:\", lower_bound)\n",
        "print(\"Limite Superior:\", upper_bound)\n"
      ],
      "metadata": {
        "colab": {
          "base_uri": "https://localhost:8080/"
        },
        "id": "-y_tFOIipJqw",
        "outputId": "9b3306a3-430f-4448-8a24-cca705208e7b"
      },
      "execution_count": 5,
      "outputs": [
        {
          "output_type": "stream",
          "name": "stdout",
          "text": [
            "                            OLS Regression Results                            \n",
            "==============================================================================\n",
            "Dep. Variable:               ARZZ3.SA   R-squared:                       0.551\n",
            "Model:                            OLS   Adj. R-squared:                  0.541\n",
            "Method:                 Least Squares   F-statistic:                     52.80\n",
            "Date:                Sun, 18 Jun 2023   Prob (F-statistic):           5.30e-09\n",
            "Time:                        03:19:32   Log-Likelihood:                 55.153\n",
            "No. Observations:                  45   AIC:                            -106.3\n",
            "Df Residuals:                      43   BIC:                            -102.7\n",
            "Df Model:                           1                                         \n",
            "Covariance Type:            nonrobust                                         \n",
            "==============================================================================\n",
            "                 coef    std err          t      P>|t|      [0.025      0.975]\n",
            "------------------------------------------------------------------------------\n",
            "const          0.0106      0.011      0.978      0.333      -0.011       0.033\n",
            "^BVSP          1.0756      0.148      7.267      0.000       0.777       1.374\n",
            "==============================================================================\n",
            "Omnibus:                        0.678   Durbin-Watson:                   1.992\n",
            "Prob(Omnibus):                  0.713   Jarque-Bera (JB):                0.739\n",
            "Skew:                          -0.109   Prob(JB):                        0.691\n",
            "Kurtosis:                       2.411   Cond. No.                         13.7\n",
            "==============================================================================\n",
            "\n",
            "Notes:\n",
            "[1] Standard Errors assume that the covariance matrix of the errors is correctly specified.\n",
            "Intervalo de Confiança:\n",
            "Limite Inferior: 0.7770845172746819\n",
            "Limite Superior: 1.374095107364672\n"
          ]
        }
      ]
    },
    {
      "cell_type": "code",
      "source": [
        "# Cálculo do Custo do equity\n",
        "\n",
        "# Desalavancando beta\n",
        "\n",
        "tax = 0.27\n",
        "debt = 1060093\n",
        "equity = 2716661\n",
        "\n",
        "unlev_beta = beta/(1+(1-tax)*debt/equity)\n",
        "\n",
        "# Risk Free Obtido 14/06\n",
        "rf = 0.1096\n",
        "\n",
        "# Default spread 14/06\n",
        "dfs = 0.0314\n",
        "\n",
        "\n",
        "\n",
        "# Calculando equity premium\n",
        "\n",
        "data_ini = data_ref - relativedelta(years = 5)\n",
        "\n",
        "retornos = yf.download(indice, start = data_ini, end = data_ref, interval=\"1mo\")[\"Adj Close\"].pct_change()\n",
        "\n",
        "retornos = retornos.dropna()\n",
        "\n",
        "retorno_anualizado = (float(retornos.mean())+1)**12-1\n",
        "print(retorno_anualizado)"
      ],
      "metadata": {
        "colab": {
          "base_uri": "https://localhost:8080/"
        },
        "id": "dnq2m7pjPIeO",
        "outputId": "37cf84a8-7a9d-46c1-f07c-6a85a636f295"
      },
      "execution_count": 6,
      "outputs": [
        {
          "output_type": "stream",
          "name": "stdout",
          "text": [
            "\r[*********************100%***********************]  1 of 1 completed\n",
            "0.08755353683124478\n"
          ]
        }
      ]
    },
    {
      "cell_type": "code",
      "source": [
        "path = \"https://github.com/Bmiguez/Arezzo-Valuation/raw/main/Dados_Valuation.xlsx\"\n",
        "aba_bp = \"BP\"\n",
        "aba_dre = \"DRE\"\n",
        "aba_fc = \"FC\"\n",
        "aba_lp = \"LojasProp\"\n",
        "aba_indicadores = \"Indicadores\"\n",
        "aba_receitabruta = \"Receita Bruta\"\n",
        "\n",
        "#### Criação dos Dataframes\n",
        "#### Balanço Patrimonial\n",
        "df_bp = pd.read_excel(path, aba_bp)\n",
        "\n",
        "#### Demonstração Resultado do Exercício\n",
        "df_dre = pd.read_excel(path, aba_dre)\n",
        "\n",
        "#### Fluxo de Caixa\n",
        "df_fc = pd.read_excel(path, aba_fc)\n",
        "\n",
        "#### Lojas Próprias\n",
        "df_lp = pd.read_excel(path, aba_lp)\n",
        "\n",
        "#### Indicadores\n",
        "df_ind = pd.read_excel(path, aba_indicadores)\n",
        "\n",
        "#### Receita Bruta\n",
        "df_receita = pd.read_excel(path, aba_receitabruta)"
      ],
      "metadata": {
        "id": "YIvzhUzItxzJ"
      },
      "execution_count": 7,
      "outputs": []
    },
    {
      "cell_type": "code",
      "source": [
        "# Calculando a média das deduções entre receita bruta e liquida\n",
        "receita_bruta = df_receita.iloc[:,1]\n",
        "receita_liquida = df_dre.iloc[:,1]\n",
        "\n",
        "deducoes = pd.DataFrame({\"Ano\": range(2010,2023), \"Percentual\":receita_liquida/receita_bruta})\n",
        "\n",
        "## Calculando a média das deduções nos últimos cinco anos\n",
        "deducoes[\"Média_5_anos\"] = deducoes[\"Percentual\"].rolling(5).mean().shift()\n",
        "\n",
        "\n",
        "\n",
        "### Formulando premissas de receita com base no numero de lojas\n",
        "\n",
        "df_lojas_prop = df_lp.iloc[:,[0] + list(range(15,25))].apply(pd.to_numeric, errors='coerce')\n",
        "\n",
        "franquias = df_lp.iloc[:,[0] + list(range(6,14))].apply(pd.to_numeric, errors='coerce')\n",
        "\n",
        "## Cálculo do número de aberturas de lojas prórprias por marca\n",
        "aberturas_LP = df_lojas_prop.iloc[:,1:].diff()\n",
        "aberturas_LP = aberturas_LP.reindex(columns=[\"Ano\"] + aberturas_LP.columns[:-1].tolist())\n",
        "aberturas_LP[\"Ano\"] = df_lojas_prop.iloc[:, 0]\n",
        "aberturas_LP = aberturas_LP.drop(aberturas_LP.index[0])\n",
        "\n",
        "# Cálculo da média dos últimos 3 anos destas aberturas\n",
        "\n",
        "df_mediaslp_aberturas = aberturas_LP.iloc[:,1:].rolling(3).mean().shift()\n",
        "df_mediaslp_aberturas = df_mediaslp_aberturas.reindex(columns=[\"Ano\"] + df_mediaslp_aberturas.columns[:-1].tolist())\n",
        "df_mediaslp_aberturas[\"Ano\"] = df_lojas_prop.iloc[:, 0]\n",
        "\n",
        "\n",
        "## Cálculo do número de aberturas de franquias por marca\n",
        "\n",
        "aberturas_FR = franquias.iloc[:,1:].diff()\n",
        "aberturas_FR = aberturas_FR.reindex(columns=[\"Ano\"] + aberturas_FR.columns[:-1].tolist())\n",
        "aberturas_FR[\"Ano\"] = franquias.iloc[:, 0]\n",
        "aberturas_FR = aberturas_FR.drop(aberturas_FR.index[0])\n",
        "\n",
        "# Cálculo da média dos últimos 3 anos destas aberturas\n",
        "\n",
        "df_mediasfr_aberturas = aberturas_FR.iloc[:,1:].rolling(3).mean().shift()\n",
        "df_mediasfr_aberturas = df_mediasfr_aberturas.reindex(columns=[\"Ano\"] + df_mediasfr_aberturas.columns[:-1].tolist())\n",
        "df_mediasfr_aberturas[\"Ano\"] = df_lojas_prop.iloc[:, 0]\n",
        "\n",
        "\n",
        "# Cálculo do mix de receita por canal por ano\n",
        "canais = [\"Franquias\", \"Multimarcas\", \"Lojas próprias\", \"Web Commerce\", \"Outros²\"]\n",
        "\n",
        "df_canais = df_receita.loc[:,canais]\n",
        "df_particip_canais = df_canais.apply(lambda row: row / row.sum(), axis=1)\n",
        "\n",
        "### Cálculo da receita por loja/receita por franquia\n",
        "## Obter receita de lojas e receita de franquias de cada marca\n",
        "\n",
        "#Arezzo\n",
        "\n",
        "receitalp_arezzo = df_receita.loc[:,\"Arezzo\"] * df_particip_canais.loc[:,\"Lojas próprias\"]\n",
        "receitafr_arezzo = df_receita.loc[:,\"Arezzo\"] * df_particip_canais.loc[:,\"Franquias\"]\n",
        "\n",
        "#Schutz\n",
        "\n",
        "receitalp_schutz = df_receita.loc[:,\"Schutz\"] * df_particip_canais.loc[:,\"Lojas próprias\"]\n",
        "receitafr_schutz = df_receita.loc[:,\"Schutz\"] * df_particip_canais.loc[:,\"Franquias\"]\n",
        "\n",
        "#Anacapri\n",
        "receitalp_anacapri = df_receita.loc[:,\"Anacapri\"] * df_particip_canais.loc[:,\"Lojas próprias\"]\n",
        "receitafr_anacapri = df_receita.loc[:,\"Anacapri\"] * df_particip_canais.loc[:,\"Franquias\"]\n",
        "\n",
        "#AR&CO\n",
        "receitalp_arco = df_receita.loc[:,\"AR&CO\"] * df_particip_canais.loc[:,\"Lojas próprias\"]\n",
        "receitafr_arco = df_receita.loc[:,\"AR&CO\"] * df_particip_canais.loc[:,\"Franquias\"]\n",
        "\n",
        "#Outros\n",
        "receitalp_outros = df_receita.loc[:,\"Outros¹\"] * df_particip_canais.loc[:,\"Lojas próprias\"]\n",
        "receitafr_outros = df_receita.loc[:,\"Outros¹\"] * df_particip_canais.loc[:,\"Franquias\"]\n",
        "\n",
        "## Receita por lojas próprias\n",
        "df_receitalp_total = df_lojas_prop.iloc[1:,:]\n",
        "print(df_receitalp_total)\n",
        "\n",
        "rec_porLP_arr= receitalp_arezzo / df_receitalp_total[\"Arezzo.1\"].reset_index(drop=True)\n",
        "rec_porFR_arr= receitafr_arezzo / franquias.loc[1:,\"Arezzo\"].reset_index(drop=True)\n",
        "\n",
        "rec_porLP_sch= receitalp_schutz / df_receitalp_total[\"Schutz.1\"].reset_index(drop=True)\n",
        "rec_porFR_sch= receitafr_schutz / franquias.loc[1:,\"Schutz\"].reset_index(drop=True)\n",
        "\n",
        "rec_porLP_arc= receitalp_arco / df_receitalp_total[\"AR&CO.1\"].reset_index(drop=True)\n",
        "rec_porFR_arc= receitafr_arco / franquias.loc[1:,\"AR&CO\"].reset_index(drop=True)\n",
        "\n",
        "rec_porLP_ana= receitalp_anacapri / df_receitalp_total[\"Anacapri.1\"].reset_index(drop=True)\n",
        "rec_porFR_ana= receitafr_anacapri / franquias.loc[1:,\"Anacapri\"].reset_index(drop=True)\n",
        "\n",
        "rec_porLP_out= receitalp_outros / df_receitalp_total[\"Anacapri.1\"].reset_index(drop=True)\n",
        "rec_porFR_out= receitafr_outros / franquias.loc[1:,\"Anacapri\"].reset_index(drop=True)"
      ],
      "metadata": {
        "colab": {
          "base_uri": "https://localhost:8080/"
        },
        "id": "f6zYvS2KBvnb",
        "outputId": "ddf8f46d-c855-41b6-8163-15cd12a2483b"
      },
      "execution_count": 9,
      "outputs": [
        {
          "output_type": "stream",
          "name": "stdout",
          "text": [
            "     Ano  Arezzo.1  Schutz.1  Alexandre Birman  Anacapri.1  Fiever.1  Alme.1  \\\n",
            "1   2010        13        10                 1           5       NaN     NaN   \n",
            "2   2011        19        17                 1           8       NaN     NaN   \n",
            "3   2012        19        27                 2           8       NaN     NaN   \n",
            "4   2013        17        27                 2           8       NaN     NaN   \n",
            "5   2014        19        27                 2           5       NaN     NaN   \n",
            "6   2015        15        26                 2           4       1.0     NaN   \n",
            "7   2016        15        23                 3           4       3.0     NaN   \n",
            "8   2017        15        22                 4           3       4.0     NaN   \n",
            "9   2018        14        17                 4           3       5.0     2.0   \n",
            "10  2019        10        17                 6           3       5.0     3.0   \n",
            "11  2020        12        16                 8           5       2.0     2.0   \n",
            "12  2021        18        20                 8           2       2.0     2.0   \n",
            "13  2022        18        22                12           2       2.0     2.0   \n",
            "\n",
            "    Vans.1  AR&CO.1  Carol Bassi  Vicenza  \n",
            "1      NaN      NaN          NaN      NaN  \n",
            "2      NaN      NaN          NaN      NaN  \n",
            "3      NaN      NaN          NaN      NaN  \n",
            "4      NaN      NaN          NaN      NaN  \n",
            "5      NaN      NaN          NaN      NaN  \n",
            "6      NaN      NaN          NaN      NaN  \n",
            "7      NaN      NaN          NaN      NaN  \n",
            "8      NaN      NaN          NaN      NaN  \n",
            "9      NaN      NaN          NaN      NaN  \n",
            "10     NaN      NaN          NaN      NaN  \n",
            "11     7.0     75.0          NaN      NaN  \n",
            "12    13.0     89.0          NaN      NaN  \n",
            "13    18.0    104.0          5.0      NaN  \n"
          ]
        }
      ]
    },
    {
      "cell_type": "code",
      "source": [],
      "metadata": {
        "id": "4QcPKZkd3BLE"
      },
      "execution_count": 8,
      "outputs": []
    },
    {
      "cell_type": "markdown",
      "source": [
        "1º Valuation\n",
        "\n",
        "2015-2022"
      ],
      "metadata": {
        "id": "iadKhr0kns2M"
      }
    },
    {
      "cell_type": "code",
      "source": [],
      "metadata": {
        "id": "dvXHDb7rpEBZ"
      },
      "execution_count": 8,
      "outputs": []
    }
  ]
}