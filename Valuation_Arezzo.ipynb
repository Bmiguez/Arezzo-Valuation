{
  "nbformat": 4,
  "nbformat_minor": 0,
  "metadata": {
    "colab": {
      "provenance": [],
      "mount_file_id": "1h8bqwE_nXSNmFr2dHRuIumB8LcO_gWK1",
      "authorship_tag": "ABX9TyODc8lDglKFk0hLqurt5vT0",
      "include_colab_link": true
    },
    "kernelspec": {
      "name": "python3",
      "display_name": "Python 3"
    },
    "language_info": {
      "name": "python"
    }
  },
  "cells": [
    {
      "cell_type": "markdown",
      "metadata": {
        "id": "view-in-github",
        "colab_type": "text"
      },
      "source": [
        "<a href=\"https://colab.research.google.com/github/Bmiguez/Arezzo-Valuation/blob/main/Valuation_Arezzo.ipynb\" target=\"_parent\"><img src=\"https://colab.research.google.com/assets/colab-badge.svg\" alt=\"Open In Colab\"/></a>"
      ]
    },
    {
      "cell_type": "code",
      "execution_count": 2,
      "metadata": {
        "id": "G4v9HZicpHJ_"
      },
      "outputs": [],
      "source": [
        "# Importando inicialmente as bibliotecas necessárias\n",
        "import pandas as pd\n",
        "import numpy as np\n",
        "import statsmodels.api as sm\n",
        "import yfinance as yf\n",
        "import sys\n",
        "import datetime\n",
        "from dateutil.relativedelta import relativedelta"
      ]
    },
    {
      "cell_type": "code",
      "source": [
        "# Definindo ticker e índice de referencia\n",
        "ticker = \"ARZZ3.SA\"\n",
        "indice = \"^BVSP\"\n",
        "\n",
        "# Definindo a data de referência e o intervalo de dados\n",
        "ano = 2023\n",
        "mes = 1\n",
        "dia = 1\n",
        "\n",
        "data_ref = datetime.date(ano, mes, dia)\n",
        "data_ini = data_ref - relativedelta(months = 46)"
      ],
      "metadata": {
        "id": "vH9-o-Wfiyj3"
      },
      "execution_count": 3,
      "outputs": []
    },
    {
      "cell_type": "code",
      "source": [
        "from ast import increment_lineno\n",
        "# Extrair retornos ajustados da empresa e do benchmark\n",
        "\n",
        "retornos = yf.download([ticker, indice], start = data_ini, end = data_ref, interval=\"1mo\")[\"Adj Close\"].pct_change()\n",
        "\n",
        "retornos = pd.DataFrame(retornos.dropna())\n",
        "\n",
        "y = retornos[ticker]\n",
        "x = retornos[indice]\n",
        "\n"
      ],
      "metadata": {
        "colab": {
          "base_uri": "https://localhost:8080/"
        },
        "id": "zZTsAo9ZdkJ0",
        "outputId": "4538cc62-b6b1-48c1-e622-de8cd17d9ce5"
      },
      "execution_count": 4,
      "outputs": [
        {
          "output_type": "stream",
          "name": "stdout",
          "text": [
            "[*********************100%***********************]  2 of 2 completed\n"
          ]
        }
      ]
    },
    {
      "cell_type": "code",
      "source": [
        "# Começando a regressão\n",
        "\n",
        "x = sm.add_constant(x)\n",
        "\n",
        "modelo = sm.OLS(y, x)\n",
        "\n",
        "resultados = modelo.fit()\n",
        "\n",
        "print(resultados.summary())\n",
        "# Extraindo valor do Beta\n",
        "\n",
        "beta = resultados.params[1]\n",
        "\n",
        "conf_interval = resultados.conf_int(alpha=0.05)\n",
        "\n",
        "lower_bound = conf_interval.iloc[1, 0]\n",
        "upper_bound = conf_interval.iloc[1, 1]\n",
        "\n",
        "print(\"Intervalo de Confiança:\")\n",
        "print(\"Limite Inferior:\", lower_bound)\n",
        "print(\"Limite Superior:\", upper_bound)\n"
      ],
      "metadata": {
        "colab": {
          "base_uri": "https://localhost:8080/"
        },
        "id": "-y_tFOIipJqw",
        "outputId": "64f259e4-ff78-42d6-a97d-ed30c6643dc6"
      },
      "execution_count": 5,
      "outputs": [
        {
          "output_type": "stream",
          "name": "stdout",
          "text": [
            "                            OLS Regression Results                            \n",
            "==============================================================================\n",
            "Dep. Variable:               ARZZ3.SA   R-squared:                       0.551\n",
            "Model:                            OLS   Adj. R-squared:                  0.541\n",
            "Method:                 Least Squares   F-statistic:                     52.80\n",
            "Date:                Thu, 22 Jun 2023   Prob (F-statistic):           5.30e-09\n",
            "Time:                        11:22:13   Log-Likelihood:                 55.153\n",
            "No. Observations:                  45   AIC:                            -106.3\n",
            "Df Residuals:                      43   BIC:                            -102.7\n",
            "Df Model:                           1                                         \n",
            "Covariance Type:            nonrobust                                         \n",
            "==============================================================================\n",
            "                 coef    std err          t      P>|t|      [0.025      0.975]\n",
            "------------------------------------------------------------------------------\n",
            "const          0.0106      0.011      0.978      0.333      -0.011       0.033\n",
            "^BVSP          1.0756      0.148      7.267      0.000       0.777       1.374\n",
            "==============================================================================\n",
            "Omnibus:                        0.678   Durbin-Watson:                   1.992\n",
            "Prob(Omnibus):                  0.713   Jarque-Bera (JB):                0.739\n",
            "Skew:                          -0.109   Prob(JB):                        0.691\n",
            "Kurtosis:                       2.411   Cond. No.                         13.7\n",
            "==============================================================================\n",
            "\n",
            "Notes:\n",
            "[1] Standard Errors assume that the covariance matrix of the errors is correctly specified.\n",
            "Intervalo de Confiança:\n",
            "Limite Inferior: 0.7770847303721753\n",
            "Limite Superior: 1.374095559595679\n"
          ]
        }
      ]
    },
    {
      "cell_type": "code",
      "source": [
        "# Cálculo do Custo do equity\n",
        "\n",
        "# Desalavancando beta\n",
        "\n",
        "tax = 0.27\n",
        "debt = 1060093\n",
        "equity = 2716661\n",
        "\n",
        "unlev_beta = beta/(1+(1-tax)*debt/equity)\n",
        "\n",
        "# Risk Free Obtido T-bond 5 y 22/06\n",
        "treasury_nominal = pd.read_csv(\"https://raw.githubusercontent.com/Bmiguez/Arezzo-Valuation/main/treasury-nominal.csv\", delimiter=',', header='infer')\n",
        "treasury_real = pd.read_csv(\"https://raw.githubusercontent.com/Bmiguez/Arezzo-Valuation/main/treasury-real.csv\", delimiter=',', header='infer')\n",
        "\n",
        "rf_usd_nominal = treasury_nominal.loc[0:29,[\"Date\", \"5 Yr\"]].mean()\n",
        "rf_usd_real = treasury_real.loc[0:29,[\"Date\", \"5 YR\"]].mean()\n",
        "\n",
        "\n",
        "# Calculando Retorno de mercado\n",
        "data_ini = data_ref - relativedelta(years = 5)\n",
        "\n",
        "retornos = yf.download(\"^GSPC\", start = data_ini, end = data_ref, interval=\"1mo\")[\"Adj Close\"].pct_change().dropna()\n",
        "\n",
        "retorno_anualizado = (float(retornos.mean())+1)**12-1\n",
        "\n",
        "print(rf_usd_nominal)\n",
        "\n",
        "\n",
        "#Equity Risk Premium\n"
      ],
      "metadata": {
        "colab": {
          "base_uri": "https://localhost:8080/"
        },
        "id": "dnq2m7pjPIeO",
        "outputId": "8952e907-b8dc-4964-e259-3556dfc60446"
      },
      "execution_count": 36,
      "outputs": [
        {
          "output_type": "stream",
          "name": "stderr",
          "text": [
            "<ipython-input-36-dc80570c109c>:15: FutureWarning: The default value of numeric_only in DataFrame.mean is deprecated. In a future version, it will default to False. In addition, specifying 'numeric_only=None' is deprecated. Select only valid columns or specify the value of numeric_only to silence this warning.\n",
            "  rf_usd_nominal = treasury_nominal.loc[0:29,[\"Date\", \"5 Yr\"]].mean()\n",
            "<ipython-input-36-dc80570c109c>:16: FutureWarning: The default value of numeric_only in DataFrame.mean is deprecated. In a future version, it will default to False. In addition, specifying 'numeric_only=None' is deprecated. Select only valid columns or specify the value of numeric_only to silence this warning.\n",
            "  rf_usd_real = treasury_real.loc[0:29,[\"Date\", \"5 YR\"]].mean()\n"
          ]
        },
        {
          "output_type": "stream",
          "name": "stdout",
          "text": [
            "\r[*********************100%***********************]  1 of 1 completed\n",
            "5 Yr    3.768333\n",
            "dtype: float64\n",
            "5 Yr   -3.685336\n",
            "dtype: float64\n"
          ]
        }
      ]
    },
    {
      "cell_type": "code",
      "source": [
        "path = \"https://github.com/Bmiguez/Arezzo-Valuation/raw/main/Dados_Valuation.xlsx\"\n",
        "aba_bp = \"BP\"\n",
        "aba_dre = \"DRE\"\n",
        "aba_fc = \"FC\"\n",
        "aba_lp = \"LojasProp\"\n",
        "aba_indicadores = \"Indicadores\"\n",
        "aba_receitabruta = \"Receita Bruta\"\n",
        "\n",
        "#### Criação dos Dataframes\n",
        "#### Balanço Patrimonial\n",
        "df_bp = pd.read_excel(path, aba_bp)\n",
        "\n",
        "#### Demonstração Resultado do Exercício\n",
        "df_dre = pd.read_excel(path, aba_dre)\n",
        "\n",
        "#### Fluxo de Caixa\n",
        "df_fc = pd.read_excel(path, aba_fc)\n",
        "\n",
        "#### Lojas Próprias\n",
        "df_lp = pd.read_excel(path, aba_lp)\n",
        "\n",
        "#### Indicadores\n",
        "df_ind = pd.read_excel(path, aba_indicadores)\n",
        "\n",
        "#### Receita Bruta\n",
        "df_receita = pd.read_excel(path, aba_receitabruta)"
      ],
      "metadata": {
        "id": "YIvzhUzItxzJ"
      },
      "execution_count": 7,
      "outputs": []
    },
    {
      "cell_type": "code",
      "source": [
        "### Calculando a média das deduções entre receita bruta e liquida\n",
        "receita_bruta = df_receita.iloc[:,1]\n",
        "receita_liquida = df_dre.iloc[:,1]\n",
        "\n",
        "deducoes = pd.DataFrame({\"Ano\": range(2010,2023), \"Percentual\":receita_liquida/receita_bruta})\n",
        "\n",
        "## Calculando a média das deduções nos últimos quatro anos\n",
        "multiplicador_receita_liq = deducoes.loc[[12,9,8,7,6],\"Percentual\"].mean()\n",
        "\n",
        "### Organizando projeções\n",
        "\n",
        "## Número de lojas\n",
        "\n",
        "total_FR = df_lp.loc[1:,\"Número de franquias\"].reset_index(drop=True)\n",
        "total_LP = df_lp.loc[1:,\"Número de lojas próprias\"].reset_index(drop=True)\n",
        "total_mult = df_lp.loc[1:,\"Multimarca MI (sem overlap)\"].reset_index(drop=True)\n",
        "\n",
        "abert_FR = df_lp.loc[:,\"Número de franquias\"].diff().dropna().reset_index(drop=True)\n",
        "abert_LP = df_lp.loc[:,\"Número de lojas próprias\"].diff().dropna().reset_index(drop=True)\n",
        "abert_mult = df_lp.loc[:,\"Multimarca MI (sem overlap)\"].diff().dropna().reset_index(drop=True)\n",
        "\n",
        "## Receita por canal\n",
        "canais = [\"Franquias\", \"Multimarcas\", \"Lojas próprias\", \"Web Commerce\", \"Outros²\"]\n",
        "df_canais = df_receita.loc[:,canais]\n",
        "\n",
        "receita_LP = df_canais.loc[:,\"Lojas próprias\"]\n",
        "receita_FR = df_canais.loc[:,\"Franquias\"]\n",
        "receita_mult = df_canais.loc[:,\"Multimarcas\"]\n",
        "receita_web = df_canais.loc[:,\"Web Commerce\"]\n",
        "receita_out = df_canais.loc[:,\"Outros²\"]\n",
        "receita_ext = df_receita.loc[:,\"Mercado externo\"]\n",
        "\n",
        "## Receita por unidade\n",
        "\n",
        "receita_por_LP = receita_LP/ total_LP\n",
        "receita_por_FR = receita_FR / total_FR\n",
        "receita_por_mult = receita_mult / total_mult\n",
        "\n",
        "## Crescimento receita por unidade + receita ecom\n",
        "\n",
        "var_por_LP = receita_por_LP.pct_change()\n",
        "var_por_FR = receita_por_FR.pct_change()\n",
        "var_por_mult = receita_por_mult.pct_change()\n",
        "var_web = receita_web.pct_change()\n",
        "var_ext = receita_ext.pct_change()\n",
        "\n",
        "# Projeções de crescimento de receita\n",
        "\n",
        "proj_rec_LP = (var_por_LP[12] + var_por_LP[9] + var_por_LP[8] + var_por_LP[7] + var_por_LP[6])/5 + 1\n",
        "proj_rec_FR = (var_por_FR[12] + var_por_FR[9] + var_por_FR[8] + var_por_FR[7] + var_por_FR[6])/5 + 1\n",
        "proj_rec_mult = (var_por_mult[12] + var_por_mult[9] + var_por_mult[8] + var_por_mult[7] + var_por_mult[6])/5 + 1\n",
        "proj_rec_out = (receita_out[12] + receita_out[9] + receita_out[8] + receita_out[7] + receita_out[6])/5 + 1\n",
        "proj_rec_web = (var_web[12] + var_web[9] + var_web[8] + var_web[7] + var_web[6])/5 + 1\n",
        "proj_rec_ext = (var_ext[12] + var_ext[9] + var_ext[8] + var_ext[7] + var_ext[6])/5 + 1\n",
        "\n",
        "# Projeções de número de unidades\n",
        "\n",
        "proj_abert_FR = (abert_FR[12] + abert_FR[9] + abert_FR[8] + abert_FR[7] + abert_FR[6])/5\n",
        "proj_abert_LP = (abert_LP[12] + abert_LP[9] + abert_LP[8] + abert_LP[7] + abert_LP[6])/5\n",
        "proj_abert_mult = (abert_mult[12] + abert_mult[9] + abert_mult[8] + abert_mult[7] + abert_mult[6])/5"
      ],
      "metadata": {
        "id": "4QcPKZkd3BLE"
      },
      "execution_count": 12,
      "outputs": []
    },
    {
      "cell_type": "markdown",
      "source": [
        "1º Valuation\n",
        "\n",
        "2015-2022"
      ],
      "metadata": {
        "id": "iadKhr0kns2M"
      }
    },
    {
      "cell_type": "code",
      "source": [
        "### Primeiro valuation - 2015 até 2022 (ano 2022)\n",
        "\n",
        "###\n",
        "i = 12\n",
        "ano = i + 2010\n",
        "## Projetando receita bruta (Nomencaltura: 1 = primeiro ano projetado)\n",
        "# Receita por Loja própria\n",
        "receita_lp_1 = receita_por_LP[i] * proj_rec_LP #Projetando do ano base\n",
        "receita_lp_2 = receita_lp_1 * proj_rec_LP\n",
        "receita_lp_3 = receita_lp_2 * proj_rec_LP\n",
        "receita_lp_4 = receita_lp_3 * proj_rec_LP\n",
        "receita_lp_5 = receita_lp_4 * proj_rec_LP\n",
        "\n",
        "# Total Lojas própriras\n",
        "total_LP_1 = total_LP[i] + proj_abert_LP #Projetando do ano base\n",
        "total_LP_2 = total_LP_1 + proj_abert_LP\n",
        "total_LP_3 = total_LP_2 + proj_abert_LP\n",
        "total_LP_4 = total_LP_3 + proj_abert_LP\n",
        "total_LP_5 = total_LP_4 + proj_abert_LP\n",
        "\n",
        "# Receita por Franquia\n",
        "receita_fr_1 = receita_por_FR[i] * proj_rec_FR #Projetando do ano base\n",
        "receita_fr_2 = receita_fr_1 * proj_rec_FR\n",
        "receita_fr_3 = receita_fr_2 * proj_rec_FR\n",
        "receita_fr_4 = receita_fr_3 * proj_rec_FR\n",
        "receita_fr_5 = receita_fr_4 * proj_rec_FR\n",
        "\n",
        "# Total Franquias\n",
        "total_FR_1 =  total_FR[i] + proj_abert_FR #Projetando do ano base\n",
        "total_FR_2 = total_FR_1 + proj_abert_FR\n",
        "total_FR_3 = total_FR_2 + proj_abert_FR\n",
        "total_FR_4 = total_FR_3 + proj_abert_FR\n",
        "total_FR_5 = total_FR_4 + proj_abert_FR\n",
        "\n",
        "# Receita por multimarca\n",
        "receita_mult_1 = receita_por_FR[i] * proj_rec_mult #Projetando do ano base\n",
        "receita_mult_2 = receita_mult_1 * proj_rec_mult\n",
        "receita_mult_3 = receita_mult_2 * proj_rec_mult\n",
        "receita_mult_4 = receita_mult_3 * proj_rec_mult\n",
        "receita_mult_5 = receita_mult_4 * proj_rec_mult\n",
        "\n",
        "# Total Multimarcas\n",
        "total_mult_1 =  total_mult[12] + proj_abert_mult #Projetando do ano base\n",
        "total_mult_2 = total_mult_1 + proj_abert_mult\n",
        "total_mult_3 = total_mult_2 + proj_abert_mult\n",
        "total_mult_4 = total_mult_3 + proj_abert_mult\n",
        "total_mult_5 = total_mult_4 + proj_abert_mult\n",
        "\n",
        "# Faturanento Web commerce\n",
        "receita_web_1 = receita_web[i] * proj_rec_web #Projetando do ano base\n",
        "receita_web_2 = receita_web_1 * (proj_rec_web - 0.025) #Suavizando a estimativa de crescimento para os anos seguintes\n",
        "receita_web_3 = receita_web_2 * (proj_rec_web - 0.030)\n",
        "receita_web_4 = receita_web_3 * (proj_rec_web - 0.050)\n",
        "receita_web_5 = receita_web_4 * (proj_rec_web - 0.100)\n",
        "\n",
        "# Faturanento Outros\n",
        "\n",
        "receita_out_1 = receita_out[i] + proj_rec_out #Projetando do ano base\n",
        "receita_out_2 = receita_out_1 + proj_rec_out\n",
        "receita_out_3 = receita_out_2 + proj_rec_out\n",
        "receita_out_4 = receita_out_3 + proj_rec_out\n",
        "receita_out_5 = receita_out_4 + proj_rec_out\n",
        "\n",
        "# Faturamento Exterior\n",
        "receita_ext_1 = receita_ext[i] * proj_rec_ext #Projetando do ano base\n",
        "receita_ext_2 = receita_ext_1 * proj_rec_ext\n",
        "receita_ext_3 = receita_ext_2 * proj_rec_ext\n",
        "receita_ext_4 = receita_ext_3 * proj_rec_ext\n",
        "receita_ext_5 = receita_ext_4 * proj_rec_ext\n",
        "\n",
        "## Cálculo da Receita Bruta total\n",
        "\n",
        "receita_bruta_1 = (receita_lp_1 * total_LP_1) + (receita_fr_1 * total_FR_1) + (receita_mult_1 * total_mult_1) + receita_web_1 + receita_out_1 + receita_ext_1\n",
        "receita_bruta_2 = (receita_lp_2 * total_LP_2) + (receita_fr_2 * total_FR_2) + (receita_mult_2 * total_mult_2) + receita_web_2 + receita_out_2 + receita_ext_2\n",
        "receita_bruta_3 = (receita_lp_3 * total_LP_3) + (receita_fr_3 * total_FR_3) + (receita_mult_3 * total_mult_3) + receita_web_3 + receita_out_3 + receita_ext_3\n",
        "receita_bruta_4 = (receita_lp_4 * total_LP_4) + (receita_fr_4 * total_FR_4) + (receita_mult_4 * total_mult_4) + receita_web_4 + receita_out_4 + receita_ext_4\n",
        "receita_bruta_5 = (receita_lp_5 * total_LP_5) + (receita_fr_5 * total_FR_5) + (receita_mult_5 * total_mult_5) + receita_web_5 + receita_out_5 + receita_ext_5\n",
        "\n",
        "receita_projetada = pd.DataFrame({\"Ano\": [ano + 1, ano + 2, ano + 3, ano + 4, ano + 5], \"Receita Bruta\":[receita_bruta_1, receita_bruta_2, receita_bruta_3, receita_bruta_4, receita_bruta_5]})\n",
        "receita_projetada[\"Receita Liquida\"] = receita_projetada[\"Receita Bruta\"] * multiplicador_receita_liq\n",
        "\n",
        "print(receita_projetada)\n",
        "\n",
        "### Cálculo do Lucro Bruto\n",
        "## Markups\n",
        "df_cmv = df_dre[\"CMV\"]\n",
        "markup = receita_bruta / (df_cmv * -1)\n",
        "var_markup = markup.pct_change()\n",
        "cresc_markup = var_markup.mean() + 1\n",
        "\n",
        "markup_1 = markup[i] * cresc_markup\n",
        "markup_2 = markup_1 * cresc_markup\n",
        "markup_3 = markup_2 * cresc_markup\n",
        "markup_4 = markup_3 * cresc_markup\n",
        "markup_5 = markup_4 * cresc_markup\n",
        "\n",
        "receita_projetada[\"Markups\"] = [markup_1, markup_2, markup_3, markup_4, markup_5]\n",
        "receita_projetada[\"CMV\"] = receita_projetada[\"Receita Liquida\"] / (receita_projetada[\"Markups\"] * -1)\n",
        "\n",
        "receita_projetada[\"Lucro Bruto\"] = receita_projetada[\"Receita Liquida\"] + receita_projetada[\"CMV\"]"
      ],
      "metadata": {
        "id": "dvXHDb7rpEBZ",
        "colab": {
          "base_uri": "https://localhost:8080/"
        },
        "outputId": "29f7b901-a647-4a07-e442-a1ed805204bf"
      },
      "execution_count": 14,
      "outputs": [
        {
          "output_type": "stream",
          "name": "stdout",
          "text": [
            "    Ano  Receita Bruta  Receita Liquida\n",
            "0  2023   1.744939e+07     1.413060e+07\n",
            "1  2024   1.984002e+07     1.606654e+07\n",
            "2  2025   2.257788e+07     1.828367e+07\n",
            "3  2026   2.568658e+07     2.080111e+07\n",
            "4  2027   2.911074e+07     2.357400e+07\n"
          ]
        }
      ]
    },
    {
      "cell_type": "code",
      "source": [
        "### Projeções de Despesas"
      ],
      "metadata": {
        "id": "Uf2yMowiebCr"
      },
      "execution_count": null,
      "outputs": []
    }
  ]
}