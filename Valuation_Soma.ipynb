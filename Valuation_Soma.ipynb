{
  "nbformat": 4,
  "nbformat_minor": 0,
  "metadata": {
    "colab": {
      "provenance": [],
      "mount_file_id": "1h8bqwE_nXSNmFr2dHRuIumB8LcO_gWK1",
      "authorship_tag": "ABX9TyNpgShgenLhemQOt4fnRsUg",
      "include_colab_link": true
    },
    "kernelspec": {
      "name": "python3",
      "display_name": "Python 3"
    },
    "language_info": {
      "name": "python"
    }
  },
  "cells": [
    {
      "cell_type": "markdown",
      "metadata": {
        "id": "view-in-github",
        "colab_type": "text"
      },
      "source": [
        "<a href=\"https://colab.research.google.com/github/Bmiguez/Soma-Valuation/blob/main/Valuation_Soma.ipynb\" target=\"_parent\"><img src=\"https://colab.research.google.com/assets/colab-badge.svg\" alt=\"Open In Colab\"/></a>"
      ]
    },
    {
      "cell_type": "code",
      "execution_count": null,
      "metadata": {
        "id": "G4v9HZicpHJ_"
      },
      "outputs": [],
      "source": [
        "# Importando inicialmente as bibliotecas necessárias\n",
        "import pandas as pd\n",
        "import numpy as np\n",
        "import statsmodels.api as sm\n",
        "import yfinance as yf\n",
        "import sys"
      ]
    },
    {
      "cell_type": "code",
      "source": [
        "# Fazendo a conexão do collab com o Drive\n",
        "sys.path.append('/content/drive/MyDrive')"
      ],
      "metadata": {
        "id": "WG-u_A4xshJf"
      },
      "execution_count": null,
      "outputs": []
    },
    {
      "cell_type": "code",
      "source": [
        "# Coletando dados para a regressão\n",
        "ticker = \"SOMA3.SA\"\n"
      ],
      "metadata": {
        "id": "vH9-o-Wfiyj3"
      },
      "execution_count": null,
      "outputs": []
    }
  ]
}